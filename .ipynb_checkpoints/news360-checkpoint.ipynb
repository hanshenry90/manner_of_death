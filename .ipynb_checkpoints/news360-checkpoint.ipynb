{
 "cells": [
  {
   "cell_type": "markdown",
   "metadata": {},
   "source": [
    "# Supervised Learning: The most probable manner of death\n",
    "## Source: WikiData"
   ]
  },
  {
   "cell_type": "code",
   "execution_count": 15,
   "metadata": {
    "collapsed": false
   },
   "outputs": [],
   "source": [
    "import pandas as pd\n",
    "import numpy as np\n",
    "import visuals as vs\n",
    "import seaborn as sb\n",
    "from sklearn.cross_validation import train_test_split\n",
    "import matplotlib.pyplot as plt\n",
    "%matplotlib inline"
   ]
  },
  {
   "cell_type": "markdown",
   "metadata": {},
   "source": [
    "### Import CSV from WikiData"
   ]
  },
  {
   "cell_type": "code",
   "execution_count": 2,
   "metadata": {
    "collapsed": false
   },
   "outputs": [],
   "source": [
    "data = pd.read_csv('news360.csv')"
   ]
  },
  {
   "cell_type": "code",
   "execution_count": 3,
   "metadata": {
    "collapsed": false
   },
   "outputs": [
    {
     "name": "stdout",
     "output_type": "stream",
     "text": [
      "<class 'pandas.core.frame.DataFrame'>\n",
      "RangeIndex: 6105 entries, 0 to 6104\n",
      "Data columns (total 7 columns):\n",
      "person            6105 non-null object\n",
      "gender_Label      6105 non-null object\n",
      "death_Label       6105 non-null object\n",
      "job_Label         6105 non-null object\n",
      "religion_Label    6105 non-null object\n",
      "country_Label     6105 non-null object\n",
      "language_Label    6105 non-null object\n",
      "dtypes: object(7)\n",
      "memory usage: 333.9+ KB\n",
      "None\n"
     ]
    }
   ],
   "source": [
    "print data.info()"
   ]
  },
  {
   "cell_type": "code",
   "execution_count": 6,
   "metadata": {
    "collapsed": false
   },
   "outputs": [
    {
     "name": "stdout",
     "output_type": "stream",
     "text": [
      "The total number of data points is: 6105\n"
     ]
    }
   ],
   "source": [
    "print \"The total number of data points is: {}\".format(data.shape[0])"
   ]
  },
  {
   "cell_type": "markdown",
   "metadata": {},
   "source": [
    "### See the features and split the label"
   ]
  },
  {
   "cell_type": "code",
   "execution_count": 7,
   "metadata": {
    "collapsed": false
   },
   "outputs": [
    {
     "data": {
      "text/html": [
       "<div>\n",
       "<table border=\"1\" class=\"dataframe\">\n",
       "  <thead>\n",
       "    <tr style=\"text-align: right;\">\n",
       "      <th></th>\n",
       "      <th>gender_Label</th>\n",
       "      <th>job_Label</th>\n",
       "      <th>religion_Label</th>\n",
       "      <th>country_Label</th>\n",
       "      <th>language_Label</th>\n",
       "    </tr>\n",
       "  </thead>\n",
       "  <tbody>\n",
       "    <tr>\n",
       "      <th>0</th>\n",
       "      <td>male</td>\n",
       "      <td>student</td>\n",
       "      <td>Catholic Church</td>\n",
       "      <td>Switzerland</td>\n",
       "      <td>French</td>\n",
       "    </tr>\n",
       "    <tr>\n",
       "      <th>1</th>\n",
       "      <td>male</td>\n",
       "      <td>lawyer</td>\n",
       "      <td>Islam</td>\n",
       "      <td>Pakistan</td>\n",
       "      <td>English</td>\n",
       "    </tr>\n",
       "    <tr>\n",
       "      <th>2</th>\n",
       "      <td>male</td>\n",
       "      <td>lawyer</td>\n",
       "      <td>Shia Islam</td>\n",
       "      <td>Pakistan</td>\n",
       "      <td>English</td>\n",
       "    </tr>\n",
       "    <tr>\n",
       "      <th>3</th>\n",
       "      <td>male</td>\n",
       "      <td>politician</td>\n",
       "      <td>Islam</td>\n",
       "      <td>Pakistan</td>\n",
       "      <td>English</td>\n",
       "    </tr>\n",
       "    <tr>\n",
       "      <th>4</th>\n",
       "      <td>male</td>\n",
       "      <td>politician</td>\n",
       "      <td>Shia Islam</td>\n",
       "      <td>Pakistan</td>\n",
       "      <td>English</td>\n",
       "    </tr>\n",
       "  </tbody>\n",
       "</table>\n",
       "</div>"
      ],
      "text/plain": [
       "  gender_Label   job_Label   religion_Label country_Label language_Label\n",
       "0         male     student  Catholic Church   Switzerland         French\n",
       "1         male      lawyer            Islam      Pakistan        English\n",
       "2         male      lawyer       Shia Islam      Pakistan        English\n",
       "3         male  politician            Islam      Pakistan        English\n",
       "4         male  politician       Shia Islam      Pakistan        English"
      ]
     },
     "execution_count": 7,
     "metadata": {},
     "output_type": "execute_result"
    }
   ],
   "source": [
    "data_raw = data.drop('person', axis=1)\n",
    "features_raw = data_raw.drop('death_Label', axis=1)\n",
    "label_raw = data['death_Label']\n",
    "features_raw.head()"
   ]
  },
  {
   "cell_type": "markdown",
   "metadata": {},
   "source": [
    "### Data exploration\n",
    "Here I set up tables to view the frequency of the each labels in manner of death."
   ]
  },
  {
   "cell_type": "code",
   "execution_count": 238,
   "metadata": {
    "collapsed": false
   },
   "outputs": [
    {
     "data": {
      "text/html": [
       "<div>\n",
       "<table border=\"1\" class=\"dataframe\">\n",
       "  <thead>\n",
       "    <tr style=\"text-align: right;\">\n",
       "      <th></th>\n",
       "      <th>death_Label</th>\n",
       "    </tr>\n",
       "  </thead>\n",
       "  <tbody>\n",
       "    <tr>\n",
       "      <th>natural causes</th>\n",
       "      <td>4353</td>\n",
       "    </tr>\n",
       "    <tr>\n",
       "      <th>homicide</th>\n",
       "      <td>657</td>\n",
       "    </tr>\n",
       "    <tr>\n",
       "      <th>suicide</th>\n",
       "      <td>251</td>\n",
       "    </tr>\n",
       "    <tr>\n",
       "      <th>accident</th>\n",
       "      <td>219</td>\n",
       "    </tr>\n",
       "    <tr>\n",
       "      <th>capital punishment</th>\n",
       "      <td>190</td>\n",
       "    </tr>\n",
       "    <tr>\n",
       "      <th>attack</th>\n",
       "      <td>70</td>\n",
       "    </tr>\n",
       "    <tr>\n",
       "      <th>unnatural death</th>\n",
       "      <td>56</td>\n",
       "    </tr>\n",
       "    <tr>\n",
       "      <th>heart failure</th>\n",
       "      <td>42</td>\n",
       "    </tr>\n",
       "    <tr>\n",
       "      <th>falling</th>\n",
       "      <td>32</td>\n",
       "    </tr>\n",
       "    <tr>\n",
       "      <th>myocardial infarction</th>\n",
       "      <td>24</td>\n",
       "    </tr>\n",
       "    <tr>\n",
       "      <th>cardiac arrest</th>\n",
       "      <td>24</td>\n",
       "    </tr>\n",
       "    <tr>\n",
       "      <th>plague</th>\n",
       "      <td>21</td>\n",
       "    </tr>\n",
       "    <tr>\n",
       "      <th>cerebral hemorrhage</th>\n",
       "      <td>19</td>\n",
       "    </tr>\n",
       "    <tr>\n",
       "      <th>illness</th>\n",
       "      <td>15</td>\n",
       "    </tr>\n",
       "    <tr>\n",
       "      <th>Islamism</th>\n",
       "      <td>12</td>\n",
       "    </tr>\n",
       "    <tr>\n",
       "      <th>Pancreatic cancer</th>\n",
       "      <td>9</td>\n",
       "    </tr>\n",
       "    <tr>\n",
       "      <th>Cerebral hypoxia</th>\n",
       "      <td>9</td>\n",
       "    </tr>\n",
       "    <tr>\n",
       "      <th>traffic accident</th>\n",
       "      <td>7</td>\n",
       "    </tr>\n",
       "    <tr>\n",
       "      <th>carbon monoxide poisoning</th>\n",
       "      <td>7</td>\n",
       "    </tr>\n",
       "    <tr>\n",
       "      <th>duel</th>\n",
       "      <td>7</td>\n",
       "    </tr>\n",
       "    <tr>\n",
       "      <th>raid</th>\n",
       "      <td>6</td>\n",
       "    </tr>\n",
       "    <tr>\n",
       "      <th>assassination</th>\n",
       "      <td>6</td>\n",
       "    </tr>\n",
       "    <tr>\n",
       "      <th>Atentado</th>\n",
       "      <td>6</td>\n",
       "    </tr>\n",
       "    <tr>\n",
       "      <th>tuberculosis</th>\n",
       "      <td>6</td>\n",
       "    </tr>\n",
       "    <tr>\n",
       "      <th>t454473416</th>\n",
       "      <td>6</td>\n",
       "    </tr>\n",
       "    <tr>\n",
       "      <th>ballistic trauma</th>\n",
       "      <td>5</td>\n",
       "    </tr>\n",
       "    <tr>\n",
       "      <th>prostate cancer</th>\n",
       "      <td>5</td>\n",
       "    </tr>\n",
       "    <tr>\n",
       "      <th>killed in action</th>\n",
       "      <td>4</td>\n",
       "    </tr>\n",
       "    <tr>\n",
       "      <th>car bomb</th>\n",
       "      <td>4</td>\n",
       "    </tr>\n",
       "    <tr>\n",
       "      <th>Q28860788</th>\n",
       "      <td>4</td>\n",
       "    </tr>\n",
       "    <tr>\n",
       "      <th>dysentery</th>\n",
       "      <td>3</td>\n",
       "    </tr>\n",
       "    <tr>\n",
       "      <th>stomach cancer</th>\n",
       "      <td>3</td>\n",
       "    </tr>\n",
       "    <tr>\n",
       "      <th>aviation accident or incident</th>\n",
       "      <td>2</td>\n",
       "    </tr>\n",
       "    <tr>\n",
       "      <th>lung cancer</th>\n",
       "      <td>2</td>\n",
       "    </tr>\n",
       "    <tr>\n",
       "      <th>European wars of religion</th>\n",
       "      <td>2</td>\n",
       "    </tr>\n",
       "    <tr>\n",
       "      <th>euthanasia</th>\n",
       "      <td>2</td>\n",
       "    </tr>\n",
       "    <tr>\n",
       "      <th>Q9072523</th>\n",
       "      <td>2</td>\n",
       "    </tr>\n",
       "    <tr>\n",
       "      <th>execution by shooting</th>\n",
       "      <td>2</td>\n",
       "    </tr>\n",
       "    <tr>\n",
       "      <th>Q10264768</th>\n",
       "      <td>2</td>\n",
       "    </tr>\n",
       "    <tr>\n",
       "      <th>disease</th>\n",
       "      <td>2</td>\n",
       "    </tr>\n",
       "    <tr>\n",
       "      <th>French Revolution</th>\n",
       "      <td>2</td>\n",
       "    </tr>\n",
       "    <tr>\n",
       "      <th>brain tumor</th>\n",
       "      <td>1</td>\n",
       "    </tr>\n",
       "    <tr>\n",
       "      <th>Whitechapel murders</th>\n",
       "      <td>1</td>\n",
       "    </tr>\n",
       "    <tr>\n",
       "      <th>Atlantic Southeast Airlines Flight 2311</th>\n",
       "      <td>1</td>\n",
       "    </tr>\n",
       "    <tr>\n",
       "      <th>pneumonia</th>\n",
       "      <td>1</td>\n",
       "    </tr>\n",
       "    <tr>\n",
       "      <th>battle</th>\n",
       "      <td>1</td>\n",
       "    </tr>\n",
       "  </tbody>\n",
       "</table>\n",
       "</div>"
      ],
      "text/plain": [
       "                                         death_Label\n",
       "natural causes                                  4353\n",
       "homicide                                         657\n",
       "suicide                                          251\n",
       "accident                                         219\n",
       "capital punishment                               190\n",
       "attack                                            70\n",
       "unnatural death                                   56\n",
       "heart failure                                     42\n",
       "falling                                           32\n",
       "myocardial infarction                             24\n",
       "cardiac arrest                                    24\n",
       "plague                                            21\n",
       "cerebral hemorrhage                               19\n",
       "illness                                           15\n",
       "Islamism                                          12\n",
       "Pancreatic cancer                                  9\n",
       "Cerebral hypoxia                                   9\n",
       "traffic accident                                   7\n",
       "carbon monoxide poisoning                          7\n",
       "duel                                               7\n",
       "raid                                               6\n",
       "assassination                                      6\n",
       "Atentado                                           6\n",
       "tuberculosis                                       6\n",
       "t454473416                                         6\n",
       "ballistic trauma                                   5\n",
       "prostate cancer                                    5\n",
       "killed in action                                   4\n",
       "car bomb                                           4\n",
       "Q28860788                                          4\n",
       "dysentery                                          3\n",
       "stomach cancer                                     3\n",
       "aviation accident or incident                      2\n",
       "lung cancer                                        2\n",
       "European wars of religion                          2\n",
       "euthanasia                                         2\n",
       "Q9072523                                           2\n",
       "execution by shooting                              2\n",
       "Q10264768                                          2\n",
       "disease                                            2\n",
       "French Revolution                                  2\n",
       "brain tumor                                        1\n",
       "Whitechapel murders                                1\n",
       "Atlantic Southeast Airlines Flight 2311            1\n",
       "pneumonia                                          1\n",
       "battle                                             1"
      ]
     },
     "execution_count": 238,
     "metadata": {},
     "output_type": "execute_result"
    }
   ],
   "source": [
    "x = label_raw.value_counts()\n",
    "df = pd.DataFrame(x)\n",
    "df"
   ]
  },
  {
   "cell_type": "code",
   "execution_count": 222,
   "metadata": {
    "collapsed": false
   },
   "outputs": [
    {
     "data": {
      "text/plain": [
       "(6105,)"
      ]
     },
     "execution_count": 222,
     "metadata": {},
     "output_type": "execute_result"
    }
   ],
   "source": [
    "label_raw.shape"
   ]
  },
  {
   "cell_type": "code",
   "execution_count": 58,
   "metadata": {
    "collapsed": false
   },
   "outputs": [],
   "source": [
    "label_index=[]\n",
    "y=[]\n",
    "for i,r in df.iterrows():\n",
    "    label_index.append(i)\n",
    "    y.append(r['death_Label'])"
   ]
  },
  {
   "cell_type": "code",
   "execution_count": 86,
   "metadata": {
    "collapsed": false
   },
   "outputs": [
    {
     "data": {
      "text/plain": [
       "<matplotlib.text.Text at 0x11a6a5910>"
      ]
     },
     "execution_count": 86,
     "metadata": {},
     "output_type": "execute_result"
    },
    {
     "data": {
      "image/png": "[encoded data removed]",
      "text/plain": [
       "<matplotlib.figure.Figure at 0x119ef2e90>"
      ]
     },
     "metadata": {},
     "output_type": "display_data"
    }
   ],
   "source": [
    "# fig, ax = plt.subplots()\n",
    "plt.pie(y, labels=label_index, shadow=True, autopct='%1.1f%%', startangle=90)\n",
    "plt.axis('equal')\n",
    "plt.title(\"Manner of death pie chart\")"
   ]
  },
  {
   "cell_type": "markdown",
   "metadata": {},
   "source": [
    "### Visualization of distribution for manner of death"
   ]
  },
  {
   "cell_type": "code",
   "execution_count": 87,
   "metadata": {
    "collapsed": false
   },
   "outputs": [],
   "source": [
    "religion = data_raw['religion_Label']\n",
    "sex = data_raw['gender_Label']\n",
    "my_tab = pd.crosstab(label_raw, columns='Count')"
   ]
  },
  {
   "cell_type": "code",
   "execution_count": 88,
   "metadata": {
    "collapsed": false
   },
   "outputs": [
    {
     "name": "stdout",
     "output_type": "stream",
     "text": [
      "col_0                                    Count\n",
      "death_Label                                   \n",
      "Atentado                                     6\n",
      "Atlantic Southeast Airlines Flight 2311      1\n",
      "Cerebral hypoxia                             9\n",
      "European wars of religion                    2\n",
      "French Revolution                            2\n",
      "Islamism                                    12\n",
      "Pancreatic cancer                            9\n",
      "Q10264768                                    2\n",
      "Q28860788                                    4\n",
      "Q9072523                                     2\n",
      "Whitechapel murders                          1\n",
      "accident                                   219\n",
      "assassination                                6\n",
      "attack                                      70\n",
      "aviation accident or incident                2\n",
      "ballistic trauma                             5\n",
      "battle                                       1\n",
      "brain tumor                                  1\n",
      "capital punishment                         190\n",
      "car bomb                                     4\n",
      "carbon monoxide poisoning                    7\n",
      "cardiac arrest                              24\n",
      "cerebral hemorrhage                         19\n",
      "disease                                      2\n",
      "duel                                         7\n",
      "dysentery                                    3\n",
      "euthanasia                                   2\n",
      "execution by shooting                        2\n",
      "falling                                     32\n",
      "heart failure                               42\n",
      "homicide                                   657\n",
      "illness                                     15\n",
      "killed in action                             4\n",
      "lung cancer                                  2\n",
      "myocardial infarction                       24\n",
      "natural causes                            4353\n",
      "plague                                      21\n",
      "pneumonia                                    1\n",
      "prostate cancer                              5\n",
      "raid                                         6\n",
      "stomach cancer                               3\n",
      "suicide                                    251\n",
      "t454473416                                   6\n",
      "traffic accident                             7\n",
      "tuberculosis                                 6\n",
      "unnatural death                             56\n"
     ]
    },
    {
     "data": {
      "text/plain": [
       "<matplotlib.axes._subplots.AxesSubplot at 0x11aa82050>"
      ]
     },
     "execution_count": 88,
     "metadata": {},
     "output_type": "execute_result"
    },
    {
     "data": {
      "image/png": "[encoded data removed]",
      "text/plain": [
       "<matplotlib.figure.Figure at 0x11a6ac490>"
      ]
     },
     "metadata": {},
     "output_type": "display_data"
    }
   ],
   "source": [
    "print my_tab\n",
    "my_tab.plot.bar()"
   ]
  },
  {
   "cell_type": "code",
   "execution_count": 89,
   "metadata": {
    "collapsed": false
   },
   "outputs": [
    {
     "data": {
      "text/plain": [
       "death_Label                              gender_Label\n",
       "Atentado                                 male               6\n",
       "Atlantic Southeast Airlines Flight 2311  male               1\n",
       "Cerebral hypoxia                         female             9\n",
       "European wars of religion                male               2\n",
       "French Revolution                        male               2\n",
       "Islamism                                 male              12\n",
       "Pancreatic cancer                        male               9\n",
       "Q10264768                                male               2\n",
       "Q28860788                                female             4\n",
       "Q9072523                                 male               2\n",
       "Whitechapel murders                      female             1\n",
       "accident                                 female            37\n",
       "                                         male             182\n",
       "assassination                            male               6\n",
       "attack                                   male              70\n",
       "aviation accident or incident            male               2\n",
       "ballistic trauma                         male               5\n",
       "battle                                   male               1\n",
       "brain tumor                              male               1\n",
       "capital punishment                       female            13\n",
       "                                         male             177\n",
       "car bomb                                 male               4\n",
       "carbon monoxide poisoning                female             7\n",
       "cardiac arrest                           male              24\n",
       "cerebral hemorrhage                      male              19\n",
       "disease                                  male               2\n",
       "duel                                     male               7\n",
       "dysentery                                male               3\n",
       "euthanasia                               male               2\n",
       "execution by shooting                    male               2\n",
       "falling                                  male              32\n",
       "heart failure                            male              42\n",
       "homicide                                 female            24\n",
       "                                         male             633\n",
       "illness                                  male              15\n",
       "killed in action                         male               4\n",
       "lung cancer                              male               2\n",
       "myocardial infarction                    male              24\n",
       "natural causes                           female           703\n",
       "                                         male            3650\n",
       "plague                                   female            21\n",
       "pneumonia                                male               1\n",
       "prostate cancer                          male               5\n",
       "raid                                     male               6\n",
       "stomach cancer                           male               3\n",
       "suicide                                  female            36\n",
       "                                         male             215\n",
       "t454473416                               male               6\n",
       "traffic accident                         male               7\n",
       "tuberculosis                             male               6\n",
       "unnatural death                          male              56\n",
       "dtype: int64"
      ]
     },
     "execution_count": 89,
     "metadata": {},
     "output_type": "execute_result"
    }
   ],
   "source": [
    "grouped = data_raw.groupby(['death_Label', 'gender_Label'])\n",
    "grouped = grouped.size()\n",
    "grouped"
   ]
  },
  {
   "cell_type": "code",
   "execution_count": 90,
   "metadata": {
    "collapsed": false
   },
   "outputs": [],
   "source": [
    "table = pd.crosstab(index=data_raw['death_Label'], columns=data_raw['gender_Label'])"
   ]
  },
  {
   "cell_type": "code",
   "execution_count": 91,
   "metadata": {
    "collapsed": false
   },
   "outputs": [
    {
     "name": "stdout",
     "output_type": "stream",
     "text": [
      "<class 'pandas.core.frame.DataFrame'> <class 'pandas.core.series.Series'>\n"
     ]
    }
   ],
   "source": [
    "print type(table), type(grouped)"
   ]
  },
  {
   "cell_type": "code",
   "execution_count": 92,
   "metadata": {
    "collapsed": false
   },
   "outputs": [
    {
     "data": {
      "text/plain": [
       "<matplotlib.axes._subplots.AxesSubplot at 0x11ac9ddd0>"
      ]
     },
     "execution_count": 92,
     "metadata": {},
     "output_type": "execute_result"
    },
    {
     "data": {
      "image/png": "[encoded data removed]",
      "text/plain": [
       "<matplotlib.figure.Figure at 0x11ac66450>"
      ]
     },
     "metadata": {},
     "output_type": "display_data"
    }
   ],
   "source": [
    "table.plot(kind='bar', stacked=True)"
   ]
  },
  {
   "cell_type": "markdown",
   "metadata": {},
   "source": [
    "### Naive Predictor: make a guess about the most probable manner of death\n",
    "Here I guessed that natural cause is the most probable manner of death and I wanted to see how accurate my guess is. I used one-hot-encoding to quantify categorical labels and features."
   ]
  },
  {
   "cell_type": "code",
   "execution_count": 93,
   "metadata": {
    "collapsed": false
   },
   "outputs": [],
   "source": [
    "features = pd.get_dummies(features_raw, columns=['gender_Label','country_Label','language_Label', 'job_Label', 'religion_Label'])\n",
    "label = pd.get_dummies(label_raw)\n",
    "natural_causes = label['natural causes']"
   ]
  },
  {
   "cell_type": "code",
   "execution_count": 223,
   "metadata": {
    "collapsed": false
   },
   "outputs": [
    {
     "name": "stdout",
     "output_type": "stream",
     "text": [
      "(6105, 800) (6105, 46)\n"
     ]
    }
   ],
   "source": [
    "print features.shape, label.shape"
   ]
  },
  {
   "cell_type": "code",
   "execution_count": 94,
   "metadata": {
    "collapsed": false
   },
   "outputs": [
    {
     "name": "stdout",
     "output_type": "stream",
     "text": [
      "The size of encoded labels is 46\n",
      "The size of encoded features is 800\n"
     ]
    }
   ],
   "source": [
    "print \"The size of encoded labels is {}\\nThe size of encoded features is {}\".format(label.shape[1], features.shape[1])"
   ]
  },
  {
   "cell_type": "code",
   "execution_count": 95,
   "metadata": {
    "collapsed": false
   },
   "outputs": [
    {
     "name": "stdout",
     "output_type": "stream",
     "text": [
      "Training set has 4884 samples.\n",
      "Testing set has 1221 samples.\n"
     ]
    }
   ],
   "source": [
    "X_train, X_test, y_train, y_test = train_test_split(features, label, test_size=.2, random_state=5)\n",
    "print 'Training set has {} samples.\\nTesting set has {} samples.'.format((X_train.shape[0]), X_test.shape[0])"
   ]
  },
  {
   "cell_type": "code",
   "execution_count": 96,
   "metadata": {
    "collapsed": false
   },
   "outputs": [],
   "source": [
    "y_pred_naive = []\n",
    "for i in range(len(data)):\n",
    "    y_pred_naive.append(1)"
   ]
  },
  {
   "cell_type": "code",
   "execution_count": 97,
   "metadata": {
    "collapsed": false
   },
   "outputs": [
    {
     "name": "stdout",
     "output_type": "stream",
     "text": [
      "The accuracy of naive predictor is 0.713022113022\n",
      "The fbeta_score of naive predictor is 0.756438327599\n"
     ]
    }
   ],
   "source": [
    "from sklearn.metrics import accuracy_score, fbeta_score\n",
    "print \"The accuracy of naive predictor is {}\".format(accuracy_score(natural_causes, y_pred_naive))\n",
    "print \"The fbeta_score of naive predictor is {}\".format(fbeta_score(natural_causes, y_pred_naive, beta=0.5))"
   ]
  },
  {
   "cell_type": "markdown",
   "metadata": {},
   "source": [
    "### Initial Model Evaluation\n",
    "\n",
    "DecisionTreeClassifier\n",
    "\n",
    "GaussianNB\n",
    "\n",
    "SVC\n",
    "\n",
    "RandomForestClassifier\n",
    "\n",
    "AdaBoostClassifier\n",
    "\n",
    "KNeighoborsClassifier"
   ]
  },
  {
   "cell_type": "code",
   "execution_count": 98,
   "metadata": {
    "collapsed": false
   },
   "outputs": [
    {
     "name": "stdout",
     "output_type": "stream",
     "text": [
      "The accuracy for Decision Tree is 0.760032760033.\n",
      "The fbeta_score for Decision Tree is 0.7895184618.\n"
     ]
    }
   ],
   "source": [
    "from sklearn.tree import DecisionTreeClassifier\n",
    "tree = DecisionTreeClassifier(random_state=5)\n",
    "tree.fit(X_train, y_train)\n",
    "y_pred_tree = tree.predict(X_test)\n",
    "print 'The accuracy for Decision Tree is {}.\\nThe fbeta_score for Decision Tree is {}.'.format(accuracy_score(y_test, y_pred_tree),fbeta_score(y_test, y_pred_tree, beta=0.5, average='micro'))"
   ]
  },
  {
   "cell_type": "code",
   "execution_count": 99,
   "metadata": {
    "collapsed": false
   },
   "outputs": [
    {
     "name": "stdout",
     "output_type": "stream",
     "text": [
      "The accuracy for Naive Bayes is 0.356265356265.\n",
      "The fbeta_score for Naive Bayes is 0.303330896941.\n"
     ]
    }
   ],
   "source": [
    "from sklearn.naive_bayes import GaussianNB\n",
    "from sklearn.multiclass import OneVsRestClassifier\n",
    "y_pred_NB = OneVsRestClassifier(GaussianNB()).fit(X_train, y_train).predict(X_test)\n",
    "print 'The accuracy for Naive Bayes is {}.\\nThe fbeta_score for Naive Bayes is {}.'.format(accuracy_score(y_test, y_pred_NB),fbeta_score(y_test, y_pred_NB, beta=0.5, average='micro'))"
   ]
  },
  {
   "cell_type": "code",
   "execution_count": 100,
   "metadata": {
    "collapsed": false
   },
   "outputs": [
    {
     "name": "stdout",
     "output_type": "stream",
     "text": [
      "The accuracy for SVC is 0.755118755119.\n",
      "The fbeta_score for SVC is 0.812445980985.\n"
     ]
    }
   ],
   "source": [
    "from sklearn.svm import SVC\n",
    "y_pred_svm = OneVsRestClassifier(SVC(kernel='linear', random_state=5)).fit(X_train, y_train).predict(X_test)\n",
    "print 'The accuracy for SVC is {}.\\nThe fbeta_score for SVC is {}.'.format(accuracy_score(y_test, y_pred_svm),fbeta_score(y_test, y_pred_svm, beta=0.5, average='micro'))"
   ]
  },
  {
   "cell_type": "code",
   "execution_count": 101,
   "metadata": {
    "collapsed": false
   },
   "outputs": [
    {
     "name": "stdout",
     "output_type": "stream",
     "text": [
      "The accuracy for Random Forest is 0.760851760852.\n",
      "The fbeta_score for Random Forest is 0.808529155788.\n"
     ]
    }
   ],
   "source": [
    "from sklearn.ensemble import RandomForestClassifier\n",
    "random = RandomForestClassifier(random_state=5)\n",
    "random.fit(X_train, y_train)\n",
    "y_pred_random = random.predict(X_test)\n",
    "print 'The accuracy for Random Forest is {}.\\nThe fbeta_score for Random Forest is {}.'.format(accuracy_score(y_test, y_pred_random),fbeta_score(y_test, y_pred_random, beta=0.5, average='micro'))"
   ]
  },
  {
   "cell_type": "code",
   "execution_count": 102,
   "metadata": {
    "collapsed": false
   },
   "outputs": [
    {
     "name": "stdout",
     "output_type": "stream",
     "text": [
      "The accuracy for AdaBoost is 0.687960687961.\n",
      "The fbeta_score for AdaBoost is 0.76143407606.\n"
     ]
    }
   ],
   "source": [
    "from sklearn.ensemble import AdaBoostClassifier\n",
    "y_pred_boost = OneVsRestClassifier(AdaBoostClassifier(random_state=5)).fit(X_train, y_train).predict(X_test)\n",
    "print 'The accuracy for AdaBoost is {}.\\nThe fbeta_score for AdaBoost is {}.'.format(accuracy_score(y_test, y_pred_boost),fbeta_score(y_test, y_pred_boost, beta=0.5, average='micro'))"
   ]
  },
  {
   "cell_type": "code",
   "execution_count": 103,
   "metadata": {
    "collapsed": false
   },
   "outputs": [
    {
     "name": "stdout",
     "output_type": "stream",
     "text": [
      "The accuracy for KNN is 0.771498771499.\n",
      "The fbeta_score for KNN is 0.816432657306.\n"
     ]
    }
   ],
   "source": [
    "from sklearn.neighbors import KNeighborsClassifier\n",
    "knn = KNeighborsClassifier()\n",
    "knn.fit(X_train, y_train)\n",
    "y_pred_knn = knn.predict(X_test)\n",
    "print 'The accuracy for KNN is {}.\\nThe fbeta_score for KNN is {}.'.format(accuracy_score(y_test, y_pred_knn),fbeta_score(y_test, y_pred_knn, beta=0.5, average='micro'))"
   ]
  },
  {
   "cell_type": "markdown",
   "metadata": {},
   "source": [
    "### Model Optimization: KNN\n",
    "Here in model optimization, I choose three model that performs well in the initial evaluation:\n",
    "\n",
    "KNN\n",
    "\n",
    "DecisionTreeClassifier\n",
    "\n",
    "RandomForestClassifier\n"
   ]
  },
  {
   "cell_type": "code",
   "execution_count": 104,
   "metadata": {
    "collapsed": false
   },
   "outputs": [
    {
     "name": "stdout",
     "output_type": "stream",
     "text": [
      "The traning time is: 900.328711987\n"
     ]
    }
   ],
   "source": [
    "from sklearn.grid_search import GridSearchCV\n",
    "from sklearn.metrics import make_scorer\n",
    "from time import time\n",
    "n_neighbors = range(1,30)\n",
    "param = dict(n_neighbors=n_neighbors)\n",
    "knn_opt = KNeighborsClassifier()\n",
    "grid = GridSearchCV(knn_opt, param, scoring='accuracy', cv=10)\n",
    "t0 = time()\n",
    "grid.fit(X_train, y_train)\n",
    "t1 = time()\n",
    "print \"The traning time is: {}\".format(t1-t0)"
   ]
  },
  {
   "cell_type": "code",
   "execution_count": 105,
   "metadata": {
    "collapsed": false
   },
   "outputs": [
    {
     "name": "stdout",
     "output_type": "stream",
     "text": [
      "The best optimized KNN is: \n",
      "\n",
      "KNeighborsClassifier(algorithm='auto', leaf_size=30, metric='minkowski',\n",
      "           metric_params=None, n_jobs=1, n_neighbors=5, p=2,\n",
      "           weights='uniform')\n",
      "\n",
      "The best accuracy score is 0.767608517609\n"
     ]
    }
   ],
   "source": [
    "best_clf = grid.best_estimator_\n",
    "results = grid.grid_scores_\n",
    "print \"The best optimized KNN is: \\n\\n{}\".format(best_clf)\n",
    "print \"\\nThe best accuracy score is {}\".format(grid.best_score_)"
   ]
  },
  {
   "cell_type": "code",
   "execution_count": 106,
   "metadata": {
    "collapsed": false
   },
   "outputs": [],
   "source": [
    "grid_mean_scores = []\n",
    "for i in results:\n",
    "    grid_mean_scores.append(i.mean_validation_score)"
   ]
  },
  {
   "cell_type": "code",
   "execution_count": 107,
   "metadata": {
    "collapsed": false
   },
   "outputs": [
    {
     "data": {
      "text/plain": [
       "<matplotlib.text.Text at 0x11657e290>"
      ]
     },
     "execution_count": 107,
     "metadata": {},
     "output_type": "execute_result"
    },
    {
     "data": {
      "image/png": "[encoded data removed]",
      "text/plain": [
       "<matplotlib.figure.Figure at 0x11aece6d0>"
      ]
     },
     "metadata": {},
     "output_type": "display_data"
    }
   ],
   "source": [
    "import matplotlib.pyplot as plt\n",
    "plt.title('KNN Optimization')\n",
    "plt.plot(n_neighbors, grid_mean_scores)\n",
    "plt.xlabel('n_neighbors')\n",
    "plt.ylabel('Accuracy')"
   ]
  },
  {
   "cell_type": "code",
   "execution_count": 108,
   "metadata": {
    "collapsed": false
   },
   "outputs": [
    {
     "name": "stdout",
     "output_type": "stream",
     "text": [
      "The accuracy for optimized KNN is 0.771498771499.\n",
      "The fbeta_score for optimized KNN is 0.816432657306.\n"
     ]
    }
   ],
   "source": [
    "y_pred_knn_opt = best_clf.predict(X_test)\n",
    "print 'The accuracy for optimized KNN is {}.\\nThe fbeta_score for optimized KNN is {}.'.format(accuracy_score(y_test, y_pred_knn_opt),fbeta_score(y_test, y_pred_knn_opt, beta=0.5, average='micro'))"
   ]
  },
  {
   "cell_type": "markdown",
   "metadata": {},
   "source": [
    "### Model Optimizaiton : Decision Tree"
   ]
  },
  {
   "cell_type": "code",
   "execution_count": 109,
   "metadata": {
    "collapsed": false
   },
   "outputs": [
    {
     "name": "stdout",
     "output_type": "stream",
     "text": [
      "The traning time is: 609.189697027\n"
     ]
    }
   ],
   "source": [
    "max_depth = range(1,20)\n",
    "min_samples_split = range(2,20)\n",
    "param = dict(max_depth=max_depth, min_samples_split=min_samples_split)\n",
    "# scorer = make_scorer(fbeta_score, beta=0.5, average='micro')\n",
    "tree_opt = DecisionTreeClassifier(random_state=5)\n",
    "grid_tree = GridSearchCV(tree_opt, param, scoring='accuracy', cv=10)\n",
    "t0 = time()\n",
    "grid_tree.fit(X_train, y_train)\n",
    "t1 = time()\n",
    "print \"The traning time is: {}\".format(t1-t0)"
   ]
  },
  {
   "cell_type": "code",
   "execution_count": 110,
   "metadata": {
    "collapsed": false
   },
   "outputs": [
    {
     "name": "stdout",
     "output_type": "stream",
     "text": [
      "The best optimized Decision Tree is: \n",
      "\n",
      "DecisionTreeClassifier(class_weight=None, criterion='gini', max_depth=17,\n",
      "            max_features=None, max_leaf_nodes=None, min_samples_leaf=1,\n",
      "            min_samples_split=2, min_weight_fraction_leaf=0.0,\n",
      "            presort=False, random_state=5, splitter='best')\n",
      "\n",
      "The best accuracy score is: 0.758804258804\n"
     ]
    }
   ],
   "source": [
    "best_clf = grid_tree.best_estimator_\n",
    "results = grid_tree.grid_scores_\n",
    "print \"The best optimized Decision Tree is: \\n\\n{}\".format(best_clf)\n",
    "print \"\\nThe best accuracy score is: {}\".format(grid_tree.best_score_)"
   ]
  },
  {
   "cell_type": "code",
   "execution_count": 111,
   "metadata": {
    "collapsed": false
   },
   "outputs": [],
   "source": [
    "grid_mean_scores = []\n",
    "for i in results:\n",
    "    grid_mean_scores.append(i.mean_validation_score)"
   ]
  },
  {
   "cell_type": "code",
   "execution_count": 112,
   "metadata": {
    "collapsed": false
   },
   "outputs": [],
   "source": [
    "count = 1\n",
    "list_1 = []\n",
    "list_2 = []\n",
    "for i in grid_mean_scores:\n",
    "    list_1.append(i)\n",
    "    count += 1\n",
    "#     print count\n",
    "    if count == 19:\n",
    "        list_2.append(np.mean(list_1))\n",
    "        list_1 = []\n",
    "        count = 1"
   ]
  },
  {
   "cell_type": "code",
   "execution_count": 113,
   "metadata": {
    "collapsed": false,
    "scrolled": true
   },
   "outputs": [
    {
     "data": {
      "text/plain": [
       "<matplotlib.text.Text at 0x11665d2d0>"
      ]
     },
     "execution_count": 113,
     "metadata": {},
     "output_type": "execute_result"
    },
    {
     "data": {
      "image/png": "[encoded data removed]",
      "text/plain": [
       "<matplotlib.figure.Figure at 0x11aa98110>"
      ]
     },
     "metadata": {},
     "output_type": "display_data"
    }
   ],
   "source": [
    "import matplotlib.pyplot as plt\n",
    "plt.title('Decision Tree Optimization')\n",
    "plt.plot(max_depth, list_2)\n",
    "plt.xlabel('max_depth')\n",
    "plt.ylabel('Accuracy')"
   ]
  },
  {
   "cell_type": "code",
   "execution_count": 114,
   "metadata": {
    "collapsed": false
   },
   "outputs": [
    {
     "name": "stdout",
     "output_type": "stream",
     "text": [
      "The accuracy for optimized Decision Tree is: 0.764127764128.\n",
      "The fbeta_score for optimized Decision Tree is: 0.775303307296.\n"
     ]
    }
   ],
   "source": [
    "y_pred_tree_opt = best_clf.predict(X_test)\n",
    "print 'The accuracy for optimized Decision Tree is: {}.\\nThe fbeta_score for optimized Decision Tree is: {}.'.format(accuracy_score(y_test, y_pred_tree_opt),fbeta_score(y_test, y_pred_tree_opt, beta=0.5, average='micro'))"
   ]
  },
  {
   "cell_type": "markdown",
   "metadata": {},
   "source": [
    "### Model Optimization: RandomForest"
   ]
  },
  {
   "cell_type": "code",
   "execution_count": 115,
   "metadata": {
    "collapsed": false
   },
   "outputs": [
    {
     "name": "stdout",
     "output_type": "stream",
     "text": [
      "The traning time is: 1143.84146094\n"
     ]
    }
   ],
   "source": [
    "max_depth = range(1,20)\n",
    "min_samples_split = range(2,20)\n",
    "param = dict(max_depth=max_depth, min_samples_split=min_samples_split)\n",
    "random_opt = RandomForestClassifier(random_state=5)\n",
    "grid_random = GridSearchCV(random_opt, param, scoring='accuracy', cv=10)\n",
    "t0 = time()\n",
    "grid_random.fit(X_train, y_train)\n",
    "t1 = time()\n",
    "print \"The traning time is: {}\".format(t1-t0)"
   ]
  },
  {
   "cell_type": "code",
   "execution_count": 116,
   "metadata": {
    "collapsed": false
   },
   "outputs": [
    {
     "name": "stdout",
     "output_type": "stream",
     "text": [
      "The best optimized Random Forest is: \n",
      "\n",
      "RandomForestClassifier(bootstrap=True, class_weight=None, criterion='gini',\n",
      "            max_depth=19, max_features='auto', max_leaf_nodes=None,\n",
      "            min_samples_leaf=1, min_samples_split=5,\n",
      "            min_weight_fraction_leaf=0.0, n_estimators=10, n_jobs=1,\n",
      "            oob_score=False, random_state=5, verbose=0, warm_start=False)\n",
      "\n",
      "The best accuracy score is: 0.728910728911\n"
     ]
    }
   ],
   "source": [
    "best_clf = grid_random.best_estimator_\n",
    "results = grid_random.grid_scores_\n",
    "print \"The best optimized Random Forest is: \\n\\n{}\".format(best_clf)\n",
    "print \"\\nThe best accuracy score is: {}\".format(grid_random.best_score_)"
   ]
  },
  {
   "cell_type": "code",
   "execution_count": 117,
   "metadata": {
    "collapsed": false
   },
   "outputs": [],
   "source": [
    "list_1 = []\n",
    "list_2 = []\n",
    "count = 1\n",
    "for i in results:\n",
    "    list_1.append(i[1])\n",
    "    count += 1\n",
    "#     print count\n",
    "    if count == 19:\n",
    "        list_2.append(np.mean(list_1))\n",
    "        list_1 = []\n",
    "        count = 1"
   ]
  },
  {
   "cell_type": "code",
   "execution_count": 118,
   "metadata": {
    "collapsed": false
   },
   "outputs": [
    {
     "data": {
      "text/plain": [
       "[<matplotlib.lines.Line2D at 0x11cd055d0>]"
      ]
     },
     "execution_count": 118,
     "metadata": {},
     "output_type": "execute_result"
    },
    {
     "data": {
      "image/png": "[encoded data removed]",
      "text/plain": [
       "<matplotlib.figure.Figure at 0x120112e90>"
      ]
     },
     "metadata": {},
     "output_type": "display_data"
    }
   ],
   "source": [
    "plt.plot(max_depth, list_2)"
   ]
  },
  {
   "cell_type": "code",
   "execution_count": 119,
   "metadata": {
    "collapsed": false
   },
   "outputs": [
    {
     "name": "stdout",
     "output_type": "stream",
     "text": [
      "The accuracy for optimized Random Forest is: 0.740376740377.\n",
      "The fbeta_score for optimized Random Forest is: 0.765453005927.\n"
     ]
    }
   ],
   "source": [
    "y_pred_random_opt = best_clf.predict(X_test)\n",
    "print 'The accuracy for optimized Random Forest is: {}.\\nThe fbeta_score for optimized Random Forest is: {}.'.format(accuracy_score(y_test, y_pred_random_opt),fbeta_score(y_test, y_pred_random_opt, beta=0.5, average='micro'))"
   ]
  },
  {
   "cell_type": "markdown",
   "metadata": {},
   "source": [
    "### Feature Selection\n",
    "Based on the optimized model, I choose Decision Tree because it has higher accuracy score (76%) than Random Forest's (74%). Also the Decision Tree has feature_importances_ attribute that KNN does not have, allowing me to reduce features.\n",
    "\n",
    "The following is what I did to find 5 most important features that Decison Tree thinks is taking large part in the learning patterns."
   ]
  },
  {
   "cell_type": "code",
   "execution_count": 120,
   "metadata": {
    "collapsed": false
   },
   "outputs": [
    {
     "data": {
      "image/png": "[encoded data removed]",
      "text/plain": [
       "<matplotlib.figure.Figure at 0x11fdec6d0>"
      ]
     },
     "metadata": {},
     "output_type": "display_data"
    }
   ],
   "source": [
    "importances = best_clf.feature_importances_\n",
    "vs.feature_plot(importances, X_train, y_train)"
   ]
  },
  {
   "cell_type": "code",
   "execution_count": 121,
   "metadata": {
    "collapsed": false
   },
   "outputs": [],
   "source": [
    "X_train_reduced = X_train[X_train.columns.values[np.argsort(importances)][::-1][:5]]\n",
    "X_test_reduced = X_test[X_test.columns.values[np.argsort(importances)][::-1][:5]]"
   ]
  },
  {
   "cell_type": "code",
   "execution_count": 122,
   "metadata": {
    "collapsed": false
   },
   "outputs": [
    {
     "data": {
      "text/plain": [
       "RandomForestClassifier(bootstrap=True, class_weight=None, criterion='gini',\n",
       "            max_depth=19, max_features='auto', max_leaf_nodes=None,\n",
       "            min_samples_leaf=1, min_samples_split=5,\n",
       "            min_weight_fraction_leaf=0.0, n_estimators=10, n_jobs=1,\n",
       "            oob_score=False, random_state=5, verbose=0, warm_start=False)"
      ]
     },
     "execution_count": 122,
     "metadata": {},
     "output_type": "execute_result"
    }
   ],
   "source": [
    "best_clf"
   ]
  },
  {
   "cell_type": "code",
   "execution_count": 123,
   "metadata": {
    "collapsed": false
   },
   "outputs": [
    {
     "name": "stdout",
     "output_type": "stream",
     "text": [
      "Time to train reduced sets is: 0.298952102661\n",
      "The accuracy for optimized Random Forest on reduced features is: 0.730548730549.\n",
      "The fbeta_score for optimized Random Forest on reduced features is: 0.742714404663.\n"
     ]
    }
   ],
   "source": [
    "t0=time()\n",
    "y_pred_reduced_tree = best_clf.fit(X_train_reduced, y_train).predict(X_test_reduced)\n",
    "\n",
    "print \"Time to train reduced sets is: {}\".format(time()-t0)\n",
    "print 'The accuracy for optimized Random Forest on reduced features is: {}.\\nThe fbeta_score for optimized Random Forest on reduced features is: {}.'.format(accuracy_score(y_test, y_pred_reduced_tree),fbeta_score(y_test, y_pred_reduced_tree, beta=0.5, average='micro'))"
   ]
  },
  {
   "cell_type": "markdown",
   "metadata": {
    "collapsed": true
   },
   "source": [
    "### Conclusion: \n",
    "The optimized Decison Tree has,on reduced training set, an accuracy of 73% predicting manner of death which is a bit lower than that on full training set, but it has a much faster performance (it takes only 15m seconds versus 680 seconds).\n",
    "\n",
    "As you can see, the most probable manner of death is natural cause, which says my guess (Naive Predictor) is correct."
   ]
  },
  {
   "cell_type": "code",
   "execution_count": 272,
   "metadata": {
    "collapsed": false
   },
   "outputs": [
    {
     "name": "stdout",
     "output_type": "stream",
     "text": [
      "<class 'pandas.core.frame.DataFrame'>\n"
     ]
    },
    {
     "data": {
      "text/html": [
       "<div>\n",
       "<table border=\"1\" class=\"dataframe\">\n",
       "  <thead>\n",
       "    <tr style=\"text-align: right;\">\n",
       "      <th></th>\n",
       "      <th>counts</th>\n",
       "    </tr>\n",
       "  </thead>\n",
       "  <tbody>\n",
       "    <tr>\n",
       "      <th>0</th>\n",
       "      <td>0.0</td>\n",
       "    </tr>\n",
       "    <tr>\n",
       "      <th>1</th>\n",
       "      <td>0.0</td>\n",
       "    </tr>\n",
       "    <tr>\n",
       "      <th>2</th>\n",
       "      <td>0.0</td>\n",
       "    </tr>\n",
       "    <tr>\n",
       "      <th>3</th>\n",
       "      <td>0.0</td>\n",
       "    </tr>\n",
       "    <tr>\n",
       "      <th>4</th>\n",
       "      <td>0.0</td>\n",
       "    </tr>\n",
       "    <tr>\n",
       "      <th>5</th>\n",
       "      <td>0.0</td>\n",
       "    </tr>\n",
       "    <tr>\n",
       "      <th>6</th>\n",
       "      <td>0.0</td>\n",
       "    </tr>\n",
       "    <tr>\n",
       "      <th>7</th>\n",
       "      <td>0.0</td>\n",
       "    </tr>\n",
       "    <tr>\n",
       "      <th>8</th>\n",
       "      <td>0.0</td>\n",
       "    </tr>\n",
       "    <tr>\n",
       "      <th>9</th>\n",
       "      <td>0.0</td>\n",
       "    </tr>\n",
       "    <tr>\n",
       "      <th>10</th>\n",
       "      <td>0.0</td>\n",
       "    </tr>\n",
       "    <tr>\n",
       "      <th>11</th>\n",
       "      <td>0.0</td>\n",
       "    </tr>\n",
       "    <tr>\n",
       "      <th>12</th>\n",
       "      <td>0.0</td>\n",
       "    </tr>\n",
       "    <tr>\n",
       "      <th>13</th>\n",
       "      <td>0.0</td>\n",
       "    </tr>\n",
       "    <tr>\n",
       "      <th>14</th>\n",
       "      <td>0.0</td>\n",
       "    </tr>\n",
       "    <tr>\n",
       "      <th>15</th>\n",
       "      <td>0.0</td>\n",
       "    </tr>\n",
       "    <tr>\n",
       "      <th>16</th>\n",
       "      <td>0.0</td>\n",
       "    </tr>\n",
       "    <tr>\n",
       "      <th>17</th>\n",
       "      <td>0.0</td>\n",
       "    </tr>\n",
       "    <tr>\n",
       "      <th>18</th>\n",
       "      <td>10.0</td>\n",
       "    </tr>\n",
       "    <tr>\n",
       "      <th>19</th>\n",
       "      <td>0.0</td>\n",
       "    </tr>\n",
       "    <tr>\n",
       "      <th>20</th>\n",
       "      <td>0.0</td>\n",
       "    </tr>\n",
       "    <tr>\n",
       "      <th>21</th>\n",
       "      <td>0.0</td>\n",
       "    </tr>\n",
       "    <tr>\n",
       "      <th>22</th>\n",
       "      <td>0.0</td>\n",
       "    </tr>\n",
       "    <tr>\n",
       "      <th>23</th>\n",
       "      <td>0.0</td>\n",
       "    </tr>\n",
       "    <tr>\n",
       "      <th>24</th>\n",
       "      <td>0.0</td>\n",
       "    </tr>\n",
       "    <tr>\n",
       "      <th>25</th>\n",
       "      <td>0.0</td>\n",
       "    </tr>\n",
       "    <tr>\n",
       "      <th>26</th>\n",
       "      <td>0.0</td>\n",
       "    </tr>\n",
       "    <tr>\n",
       "      <th>27</th>\n",
       "      <td>0.0</td>\n",
       "    </tr>\n",
       "    <tr>\n",
       "      <th>28</th>\n",
       "      <td>0.0</td>\n",
       "    </tr>\n",
       "    <tr>\n",
       "      <th>29</th>\n",
       "      <td>0.0</td>\n",
       "    </tr>\n",
       "    <tr>\n",
       "      <th>30</th>\n",
       "      <td>16.0</td>\n",
       "    </tr>\n",
       "    <tr>\n",
       "      <th>31</th>\n",
       "      <td>0.0</td>\n",
       "    </tr>\n",
       "    <tr>\n",
       "      <th>32</th>\n",
       "      <td>0.0</td>\n",
       "    </tr>\n",
       "    <tr>\n",
       "      <th>33</th>\n",
       "      <td>0.0</td>\n",
       "    </tr>\n",
       "    <tr>\n",
       "      <th>34</th>\n",
       "      <td>0.0</td>\n",
       "    </tr>\n",
       "    <tr>\n",
       "      <th>35</th>\n",
       "      <td>1170.0</td>\n",
       "    </tr>\n",
       "    <tr>\n",
       "      <th>36</th>\n",
       "      <td>0.0</td>\n",
       "    </tr>\n",
       "    <tr>\n",
       "      <th>37</th>\n",
       "      <td>0.0</td>\n",
       "    </tr>\n",
       "    <tr>\n",
       "      <th>38</th>\n",
       "      <td>0.0</td>\n",
       "    </tr>\n",
       "    <tr>\n",
       "      <th>39</th>\n",
       "      <td>0.0</td>\n",
       "    </tr>\n",
       "    <tr>\n",
       "      <th>40</th>\n",
       "      <td>0.0</td>\n",
       "    </tr>\n",
       "    <tr>\n",
       "      <th>41</th>\n",
       "      <td>0.0</td>\n",
       "    </tr>\n",
       "    <tr>\n",
       "      <th>42</th>\n",
       "      <td>0.0</td>\n",
       "    </tr>\n",
       "    <tr>\n",
       "      <th>43</th>\n",
       "      <td>0.0</td>\n",
       "    </tr>\n",
       "    <tr>\n",
       "      <th>44</th>\n",
       "      <td>0.0</td>\n",
       "    </tr>\n",
       "    <tr>\n",
       "      <th>45</th>\n",
       "      <td>0.0</td>\n",
       "    </tr>\n",
       "  </tbody>\n",
       "</table>\n",
       "</div>"
      ],
      "text/plain": [
       "    counts\n",
       "0      0.0\n",
       "1      0.0\n",
       "2      0.0\n",
       "3      0.0\n",
       "4      0.0\n",
       "5      0.0\n",
       "6      0.0\n",
       "7      0.0\n",
       "8      0.0\n",
       "9      0.0\n",
       "10     0.0\n",
       "11     0.0\n",
       "12     0.0\n",
       "13     0.0\n",
       "14     0.0\n",
       "15     0.0\n",
       "16     0.0\n",
       "17     0.0\n",
       "18    10.0\n",
       "19     0.0\n",
       "20     0.0\n",
       "21     0.0\n",
       "22     0.0\n",
       "23     0.0\n",
       "24     0.0\n",
       "25     0.0\n",
       "26     0.0\n",
       "27     0.0\n",
       "28     0.0\n",
       "29     0.0\n",
       "30    16.0\n",
       "31     0.0\n",
       "32     0.0\n",
       "33     0.0\n",
       "34     0.0\n",
       "35  1170.0\n",
       "36     0.0\n",
       "37     0.0\n",
       "38     0.0\n",
       "39     0.0\n",
       "40     0.0\n",
       "41     0.0\n",
       "42     0.0\n",
       "43     0.0\n",
       "44     0.0\n",
       "45     0.0"
      ]
     },
     "execution_count": 272,
     "metadata": {},
     "output_type": "execute_result"
    }
   ],
   "source": [
    "y = y_pred_reduced_tree.sum().tolist()\n",
    "y = pd.DataFrame(y)\n",
    "print type(y)\n",
    "y.columns = ['counts']\n",
    "y"
   ]
  },
  {
   "cell_type": "code",
   "execution_count": 277,
   "metadata": {
    "collapsed": false
   },
   "outputs": [
    {
     "data": {
      "text/html": [
       "<div>\n",
       "<table border=\"1\" class=\"dataframe\">\n",
       "  <thead>\n",
       "    <tr style=\"text-align: right;\">\n",
       "      <th></th>\n",
       "      <th>manner of death</th>\n",
       "    </tr>\n",
       "  </thead>\n",
       "  <tbody>\n",
       "    <tr>\n",
       "      <th>0</th>\n",
       "      <td>Atentado</td>\n",
       "    </tr>\n",
       "    <tr>\n",
       "      <th>1</th>\n",
       "      <td>Atlantic Southeast Airlines Flight 2311</td>\n",
       "    </tr>\n",
       "    <tr>\n",
       "      <th>2</th>\n",
       "      <td>Cerebral hypoxia</td>\n",
       "    </tr>\n",
       "    <tr>\n",
       "      <th>3</th>\n",
       "      <td>European wars of religion</td>\n",
       "    </tr>\n",
       "    <tr>\n",
       "      <th>4</th>\n",
       "      <td>French Revolution</td>\n",
       "    </tr>\n",
       "    <tr>\n",
       "      <th>5</th>\n",
       "      <td>Islamism</td>\n",
       "    </tr>\n",
       "    <tr>\n",
       "      <th>6</th>\n",
       "      <td>Pancreatic cancer</td>\n",
       "    </tr>\n",
       "    <tr>\n",
       "      <th>7</th>\n",
       "      <td>Q10264768</td>\n",
       "    </tr>\n",
       "    <tr>\n",
       "      <th>8</th>\n",
       "      <td>Q28860788</td>\n",
       "    </tr>\n",
       "    <tr>\n",
       "      <th>9</th>\n",
       "      <td>Q9072523</td>\n",
       "    </tr>\n",
       "    <tr>\n",
       "      <th>10</th>\n",
       "      <td>Whitechapel murders</td>\n",
       "    </tr>\n",
       "    <tr>\n",
       "      <th>11</th>\n",
       "      <td>accident</td>\n",
       "    </tr>\n",
       "    <tr>\n",
       "      <th>12</th>\n",
       "      <td>assassination</td>\n",
       "    </tr>\n",
       "    <tr>\n",
       "      <th>13</th>\n",
       "      <td>attack</td>\n",
       "    </tr>\n",
       "    <tr>\n",
       "      <th>14</th>\n",
       "      <td>aviation accident or incident</td>\n",
       "    </tr>\n",
       "    <tr>\n",
       "      <th>15</th>\n",
       "      <td>ballistic trauma</td>\n",
       "    </tr>\n",
       "    <tr>\n",
       "      <th>16</th>\n",
       "      <td>battle</td>\n",
       "    </tr>\n",
       "    <tr>\n",
       "      <th>17</th>\n",
       "      <td>brain tumor</td>\n",
       "    </tr>\n",
       "    <tr>\n",
       "      <th>18</th>\n",
       "      <td>capital punishment</td>\n",
       "    </tr>\n",
       "    <tr>\n",
       "      <th>19</th>\n",
       "      <td>car bomb</td>\n",
       "    </tr>\n",
       "    <tr>\n",
       "      <th>20</th>\n",
       "      <td>carbon monoxide poisoning</td>\n",
       "    </tr>\n",
       "    <tr>\n",
       "      <th>21</th>\n",
       "      <td>cardiac arrest</td>\n",
       "    </tr>\n",
       "    <tr>\n",
       "      <th>22</th>\n",
       "      <td>cerebral hemorrhage</td>\n",
       "    </tr>\n",
       "    <tr>\n",
       "      <th>23</th>\n",
       "      <td>disease</td>\n",
       "    </tr>\n",
       "    <tr>\n",
       "      <th>24</th>\n",
       "      <td>duel</td>\n",
       "    </tr>\n",
       "    <tr>\n",
       "      <th>25</th>\n",
       "      <td>dysentery</td>\n",
       "    </tr>\n",
       "    <tr>\n",
       "      <th>26</th>\n",
       "      <td>euthanasia</td>\n",
       "    </tr>\n",
       "    <tr>\n",
       "      <th>27</th>\n",
       "      <td>execution by shooting</td>\n",
       "    </tr>\n",
       "    <tr>\n",
       "      <th>28</th>\n",
       "      <td>falling</td>\n",
       "    </tr>\n",
       "    <tr>\n",
       "      <th>29</th>\n",
       "      <td>heart failure</td>\n",
       "    </tr>\n",
       "    <tr>\n",
       "      <th>30</th>\n",
       "      <td>homicide</td>\n",
       "    </tr>\n",
       "    <tr>\n",
       "      <th>31</th>\n",
       "      <td>illness</td>\n",
       "    </tr>\n",
       "    <tr>\n",
       "      <th>32</th>\n",
       "      <td>killed in action</td>\n",
       "    </tr>\n",
       "    <tr>\n",
       "      <th>33</th>\n",
       "      <td>lung cancer</td>\n",
       "    </tr>\n",
       "    <tr>\n",
       "      <th>34</th>\n",
       "      <td>myocardial infarction</td>\n",
       "    </tr>\n",
       "    <tr>\n",
       "      <th>35</th>\n",
       "      <td>natural causes</td>\n",
       "    </tr>\n",
       "    <tr>\n",
       "      <th>36</th>\n",
       "      <td>plague</td>\n",
       "    </tr>\n",
       "    <tr>\n",
       "      <th>37</th>\n",
       "      <td>pneumonia</td>\n",
       "    </tr>\n",
       "    <tr>\n",
       "      <th>38</th>\n",
       "      <td>prostate cancer</td>\n",
       "    </tr>\n",
       "    <tr>\n",
       "      <th>39</th>\n",
       "      <td>raid</td>\n",
       "    </tr>\n",
       "    <tr>\n",
       "      <th>40</th>\n",
       "      <td>stomach cancer</td>\n",
       "    </tr>\n",
       "    <tr>\n",
       "      <th>41</th>\n",
       "      <td>suicide</td>\n",
       "    </tr>\n",
       "    <tr>\n",
       "      <th>42</th>\n",
       "      <td>t454473416</td>\n",
       "    </tr>\n",
       "    <tr>\n",
       "      <th>43</th>\n",
       "      <td>traffic accident</td>\n",
       "    </tr>\n",
       "    <tr>\n",
       "      <th>44</th>\n",
       "      <td>tuberculosis</td>\n",
       "    </tr>\n",
       "    <tr>\n",
       "      <th>45</th>\n",
       "      <td>unnatural death</td>\n",
       "    </tr>\n",
       "  </tbody>\n",
       "</table>\n",
       "</div>"
      ],
      "text/plain": [
       "                            manner of death\n",
       "0                                  Atentado\n",
       "1   Atlantic Southeast Airlines Flight 2311\n",
       "2                          Cerebral hypoxia\n",
       "3                 European wars of religion\n",
       "4                         French Revolution\n",
       "5                                  Islamism\n",
       "6                         Pancreatic cancer\n",
       "7                                 Q10264768\n",
       "8                                 Q28860788\n",
       "9                                  Q9072523\n",
       "10                      Whitechapel murders\n",
       "11                                 accident\n",
       "12                            assassination\n",
       "13                                   attack\n",
       "14            aviation accident or incident\n",
       "15                         ballistic trauma\n",
       "16                                   battle\n",
       "17                              brain tumor\n",
       "18                       capital punishment\n",
       "19                                 car bomb\n",
       "20                carbon monoxide poisoning\n",
       "21                           cardiac arrest\n",
       "22                      cerebral hemorrhage\n",
       "23                                  disease\n",
       "24                                     duel\n",
       "25                                dysentery\n",
       "26                               euthanasia\n",
       "27                    execution by shooting\n",
       "28                                  falling\n",
       "29                            heart failure\n",
       "30                                 homicide\n",
       "31                                  illness\n",
       "32                         killed in action\n",
       "33                              lung cancer\n",
       "34                    myocardial infarction\n",
       "35                           natural causes\n",
       "36                                   plague\n",
       "37                                pneumonia\n",
       "38                          prostate cancer\n",
       "39                                     raid\n",
       "40                           stomach cancer\n",
       "41                                  suicide\n",
       "42                               t454473416\n",
       "43                         traffic accident\n",
       "44                             tuberculosis\n",
       "45                          unnatural death"
      ]
     },
     "execution_count": 277,
     "metadata": {},
     "output_type": "execute_result"
    }
   ],
   "source": [
    "x = pd.DataFrame(label.columns.values)\n",
    "x.columns = ['manner of death']\n",
    "x"
   ]
  },
  {
   "cell_type": "code",
   "execution_count": 275,
   "metadata": {
    "collapsed": false
   },
   "outputs": [],
   "source": [
    "z = x.join(y, how='outer')"
   ]
  },
  {
   "cell_type": "code",
   "execution_count": 276,
   "metadata": {
    "collapsed": false
   },
   "outputs": [
    {
     "data": {
      "text/html": [
       "<div>\n",
       "<table border=\"1\" class=\"dataframe\">\n",
       "  <thead>\n",
       "    <tr style=\"text-align: right;\">\n",
       "      <th></th>\n",
       "      <th>manner of death</th>\n",
       "      <th>counts</th>\n",
       "    </tr>\n",
       "  </thead>\n",
       "  <tbody>\n",
       "    <tr>\n",
       "      <th>0</th>\n",
       "      <td>Atentado</td>\n",
       "      <td>0.0</td>\n",
       "    </tr>\n",
       "    <tr>\n",
       "      <th>1</th>\n",
       "      <td>Atlantic Southeast Airlines Flight 2311</td>\n",
       "      <td>0.0</td>\n",
       "    </tr>\n",
       "    <tr>\n",
       "      <th>2</th>\n",
       "      <td>Cerebral hypoxia</td>\n",
       "      <td>0.0</td>\n",
       "    </tr>\n",
       "    <tr>\n",
       "      <th>3</th>\n",
       "      <td>European wars of religion</td>\n",
       "      <td>0.0</td>\n",
       "    </tr>\n",
       "    <tr>\n",
       "      <th>4</th>\n",
       "      <td>French Revolution</td>\n",
       "      <td>0.0</td>\n",
       "    </tr>\n",
       "    <tr>\n",
       "      <th>5</th>\n",
       "      <td>Islamism</td>\n",
       "      <td>0.0</td>\n",
       "    </tr>\n",
       "    <tr>\n",
       "      <th>6</th>\n",
       "      <td>Pancreatic cancer</td>\n",
       "      <td>0.0</td>\n",
       "    </tr>\n",
       "    <tr>\n",
       "      <th>7</th>\n",
       "      <td>Q10264768</td>\n",
       "      <td>0.0</td>\n",
       "    </tr>\n",
       "    <tr>\n",
       "      <th>8</th>\n",
       "      <td>Q28860788</td>\n",
       "      <td>0.0</td>\n",
       "    </tr>\n",
       "    <tr>\n",
       "      <th>9</th>\n",
       "      <td>Q9072523</td>\n",
       "      <td>0.0</td>\n",
       "    </tr>\n",
       "    <tr>\n",
       "      <th>10</th>\n",
       "      <td>Whitechapel murders</td>\n",
       "      <td>0.0</td>\n",
       "    </tr>\n",
       "    <tr>\n",
       "      <th>11</th>\n",
       "      <td>accident</td>\n",
       "      <td>0.0</td>\n",
       "    </tr>\n",
       "    <tr>\n",
       "      <th>12</th>\n",
       "      <td>assassination</td>\n",
       "      <td>0.0</td>\n",
       "    </tr>\n",
       "    <tr>\n",
       "      <th>13</th>\n",
       "      <td>attack</td>\n",
       "      <td>0.0</td>\n",
       "    </tr>\n",
       "    <tr>\n",
       "      <th>14</th>\n",
       "      <td>aviation accident or incident</td>\n",
       "      <td>0.0</td>\n",
       "    </tr>\n",
       "    <tr>\n",
       "      <th>15</th>\n",
       "      <td>ballistic trauma</td>\n",
       "      <td>0.0</td>\n",
       "    </tr>\n",
       "    <tr>\n",
       "      <th>16</th>\n",
       "      <td>battle</td>\n",
       "      <td>0.0</td>\n",
       "    </tr>\n",
       "    <tr>\n",
       "      <th>17</th>\n",
       "      <td>brain tumor</td>\n",
       "      <td>0.0</td>\n",
       "    </tr>\n",
       "    <tr>\n",
       "      <th>18</th>\n",
       "      <td>capital punishment</td>\n",
       "      <td>10.0</td>\n",
       "    </tr>\n",
       "    <tr>\n",
       "      <th>19</th>\n",
       "      <td>car bomb</td>\n",
       "      <td>0.0</td>\n",
       "    </tr>\n",
       "    <tr>\n",
       "      <th>20</th>\n",
       "      <td>carbon monoxide poisoning</td>\n",
       "      <td>0.0</td>\n",
       "    </tr>\n",
       "    <tr>\n",
       "      <th>21</th>\n",
       "      <td>cardiac arrest</td>\n",
       "      <td>0.0</td>\n",
       "    </tr>\n",
       "    <tr>\n",
       "      <th>22</th>\n",
       "      <td>cerebral hemorrhage</td>\n",
       "      <td>0.0</td>\n",
       "    </tr>\n",
       "    <tr>\n",
       "      <th>23</th>\n",
       "      <td>disease</td>\n",
       "      <td>0.0</td>\n",
       "    </tr>\n",
       "    <tr>\n",
       "      <th>24</th>\n",
       "      <td>duel</td>\n",
       "      <td>0.0</td>\n",
       "    </tr>\n",
       "    <tr>\n",
       "      <th>25</th>\n",
       "      <td>dysentery</td>\n",
       "      <td>0.0</td>\n",
       "    </tr>\n",
       "    <tr>\n",
       "      <th>26</th>\n",
       "      <td>euthanasia</td>\n",
       "      <td>0.0</td>\n",
       "    </tr>\n",
       "    <tr>\n",
       "      <th>27</th>\n",
       "      <td>execution by shooting</td>\n",
       "      <td>0.0</td>\n",
       "    </tr>\n",
       "    <tr>\n",
       "      <th>28</th>\n",
       "      <td>falling</td>\n",
       "      <td>0.0</td>\n",
       "    </tr>\n",
       "    <tr>\n",
       "      <th>29</th>\n",
       "      <td>heart failure</td>\n",
       "      <td>0.0</td>\n",
       "    </tr>\n",
       "    <tr>\n",
       "      <th>30</th>\n",
       "      <td>homicide</td>\n",
       "      <td>16.0</td>\n",
       "    </tr>\n",
       "    <tr>\n",
       "      <th>31</th>\n",
       "      <td>illness</td>\n",
       "      <td>0.0</td>\n",
       "    </tr>\n",
       "    <tr>\n",
       "      <th>32</th>\n",
       "      <td>killed in action</td>\n",
       "      <td>0.0</td>\n",
       "    </tr>\n",
       "    <tr>\n",
       "      <th>33</th>\n",
       "      <td>lung cancer</td>\n",
       "      <td>0.0</td>\n",
       "    </tr>\n",
       "    <tr>\n",
       "      <th>34</th>\n",
       "      <td>myocardial infarction</td>\n",
       "      <td>0.0</td>\n",
       "    </tr>\n",
       "    <tr>\n",
       "      <th>35</th>\n",
       "      <td>natural causes</td>\n",
       "      <td>1170.0</td>\n",
       "    </tr>\n",
       "    <tr>\n",
       "      <th>36</th>\n",
       "      <td>plague</td>\n",
       "      <td>0.0</td>\n",
       "    </tr>\n",
       "    <tr>\n",
       "      <th>37</th>\n",
       "      <td>pneumonia</td>\n",
       "      <td>0.0</td>\n",
       "    </tr>\n",
       "    <tr>\n",
       "      <th>38</th>\n",
       "      <td>prostate cancer</td>\n",
       "      <td>0.0</td>\n",
       "    </tr>\n",
       "    <tr>\n",
       "      <th>39</th>\n",
       "      <td>raid</td>\n",
       "      <td>0.0</td>\n",
       "    </tr>\n",
       "    <tr>\n",
       "      <th>40</th>\n",
       "      <td>stomach cancer</td>\n",
       "      <td>0.0</td>\n",
       "    </tr>\n",
       "    <tr>\n",
       "      <th>41</th>\n",
       "      <td>suicide</td>\n",
       "      <td>0.0</td>\n",
       "    </tr>\n",
       "    <tr>\n",
       "      <th>42</th>\n",
       "      <td>t454473416</td>\n",
       "      <td>0.0</td>\n",
       "    </tr>\n",
       "    <tr>\n",
       "      <th>43</th>\n",
       "      <td>traffic accident</td>\n",
       "      <td>0.0</td>\n",
       "    </tr>\n",
       "    <tr>\n",
       "      <th>44</th>\n",
       "      <td>tuberculosis</td>\n",
       "      <td>0.0</td>\n",
       "    </tr>\n",
       "    <tr>\n",
       "      <th>45</th>\n",
       "      <td>unnatural death</td>\n",
       "      <td>0.0</td>\n",
       "    </tr>\n",
       "  </tbody>\n",
       "</table>\n",
       "</div>"
      ],
      "text/plain": [
       "                            manner of death  counts\n",
       "0                                  Atentado     0.0\n",
       "1   Atlantic Southeast Airlines Flight 2311     0.0\n",
       "2                          Cerebral hypoxia     0.0\n",
       "3                 European wars of religion     0.0\n",
       "4                         French Revolution     0.0\n",
       "5                                  Islamism     0.0\n",
       "6                         Pancreatic cancer     0.0\n",
       "7                                 Q10264768     0.0\n",
       "8                                 Q28860788     0.0\n",
       "9                                  Q9072523     0.0\n",
       "10                      Whitechapel murders     0.0\n",
       "11                                 accident     0.0\n",
       "12                            assassination     0.0\n",
       "13                                   attack     0.0\n",
       "14            aviation accident or incident     0.0\n",
       "15                         ballistic trauma     0.0\n",
       "16                                   battle     0.0\n",
       "17                              brain tumor     0.0\n",
       "18                       capital punishment    10.0\n",
       "19                                 car bomb     0.0\n",
       "20                carbon monoxide poisoning     0.0\n",
       "21                           cardiac arrest     0.0\n",
       "22                      cerebral hemorrhage     0.0\n",
       "23                                  disease     0.0\n",
       "24                                     duel     0.0\n",
       "25                                dysentery     0.0\n",
       "26                               euthanasia     0.0\n",
       "27                    execution by shooting     0.0\n",
       "28                                  falling     0.0\n",
       "29                            heart failure     0.0\n",
       "30                                 homicide    16.0\n",
       "31                                  illness     0.0\n",
       "32                         killed in action     0.0\n",
       "33                              lung cancer     0.0\n",
       "34                    myocardial infarction     0.0\n",
       "35                           natural causes  1170.0\n",
       "36                                   plague     0.0\n",
       "37                                pneumonia     0.0\n",
       "38                          prostate cancer     0.0\n",
       "39                                     raid     0.0\n",
       "40                           stomach cancer     0.0\n",
       "41                                  suicide     0.0\n",
       "42                               t454473416     0.0\n",
       "43                         traffic accident     0.0\n",
       "44                             tuberculosis     0.0\n",
       "45                          unnatural death     0.0"
      ]
     },
     "execution_count": 276,
     "metadata": {},
     "output_type": "execute_result"
    }
   ],
   "source": [
    "z"
   ]
  },
  {
   "cell_type": "code",
   "execution_count": null,
   "metadata": {
    "collapsed": true
   },
   "outputs": [],
   "source": []
  }
 ],
 "metadata": {
  "kernelspec": {
   "display_name": "Python 2",
   "language": "python",
   "name": "python2"
  },
  "language_info": {
   "codemirror_mode": {
    "name": "ipython",
    "version": 2
   },
   "file_extension": ".py",
   "mimetype": "text/x-python",
   "name": "python",
   "nbconvert_exporter": "python",
   "pygments_lexer": "ipython2",
   "version": "2.7.13"
  }
 },
 "nbformat": 4,
 "nbformat_minor": 2
}
