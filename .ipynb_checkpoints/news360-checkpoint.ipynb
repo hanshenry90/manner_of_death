{
 "cells": [
  {
   "cell_type": "markdown",
   "metadata": {},
   "source": [
    "# Supervised Learning: The most probable manner of death\n",
    "## Source: WikiData"
   ]
  },
  {
   "cell_type": "code",
   "execution_count": 1,
   "metadata": {
    "collapsed": false
   },
   "outputs": [],
   "source": [
    "import pandas as pd\n",
    "import numpy as np\n",
    "import visuals as vs\n",
    "import seaborn as sb\n",
    "from sklearn.cross_validation import train_test_split\n",
    "%matplotlib inline"
   ]
  },
  {
   "cell_type": "markdown",
   "metadata": {},
   "source": [
    "### Import CSV from WikiData"
   ]
  },
  {
   "cell_type": "code",
   "execution_count": 2,
   "metadata": {
    "collapsed": false
   },
   "outputs": [],
   "source": [
    "data = pd.read_csv('news360.csv')"
   ]
  },
  {
   "cell_type": "code",
   "execution_count": 3,
   "metadata": {
    "collapsed": false
   },
   "outputs": [
    {
     "name": "stdout",
     "output_type": "stream",
     "text": [
      "<class 'pandas.core.frame.DataFrame'>\n",
      "RangeIndex: 6105 entries, 0 to 6104\n",
      "Data columns (total 7 columns):\n",
      "person            6105 non-null object\n",
      "gender_Label      6105 non-null object\n",
      "death_Label       6105 non-null object\n",
      "job_Label         6105 non-null object\n",
      "religion_Label    6105 non-null object\n",
      "country_Label     6105 non-null object\n",
      "language_Label    6105 non-null object\n",
      "dtypes: object(7)\n",
      "memory usage: 333.9+ KB\n",
      "None\n"
     ]
    }
   ],
   "source": [
    "print data.info()"
   ]
  },
  {
   "cell_type": "code",
   "execution_count": 5,
   "metadata": {
    "collapsed": false
   },
   "outputs": [
    {
     "name": "stdout",
     "output_type": "stream",
     "text": [
      "The total number of data points is: 6105\n"
     ]
    }
   ],
   "source": [
    "print \"The total number of data points is: {}\".format(len(data))"
   ]
  },
  {
   "cell_type": "markdown",
   "metadata": {},
   "source": [
    "### See the features and split the label"
   ]
  },
  {
   "cell_type": "code",
   "execution_count": 6,
   "metadata": {
    "collapsed": false
   },
   "outputs": [
    {
     "data": {
      "text/html": [
       "<div>\n",
       "<table border=\"1\" class=\"dataframe\">\n",
       "  <thead>\n",
       "    <tr style=\"text-align: right;\">\n",
       "      <th></th>\n",
       "      <th>gender_Label</th>\n",
       "      <th>job_Label</th>\n",
       "      <th>religion_Label</th>\n",
       "      <th>country_Label</th>\n",
       "      <th>language_Label</th>\n",
       "    </tr>\n",
       "  </thead>\n",
       "  <tbody>\n",
       "    <tr>\n",
       "      <th>0</th>\n",
       "      <td>male</td>\n",
       "      <td>student</td>\n",
       "      <td>Catholic Church</td>\n",
       "      <td>Switzerland</td>\n",
       "      <td>French</td>\n",
       "    </tr>\n",
       "    <tr>\n",
       "      <th>1</th>\n",
       "      <td>male</td>\n",
       "      <td>lawyer</td>\n",
       "      <td>Islam</td>\n",
       "      <td>Pakistan</td>\n",
       "      <td>English</td>\n",
       "    </tr>\n",
       "    <tr>\n",
       "      <th>2</th>\n",
       "      <td>male</td>\n",
       "      <td>lawyer</td>\n",
       "      <td>Shia Islam</td>\n",
       "      <td>Pakistan</td>\n",
       "      <td>English</td>\n",
       "    </tr>\n",
       "    <tr>\n",
       "      <th>3</th>\n",
       "      <td>male</td>\n",
       "      <td>politician</td>\n",
       "      <td>Islam</td>\n",
       "      <td>Pakistan</td>\n",
       "      <td>English</td>\n",
       "    </tr>\n",
       "    <tr>\n",
       "      <th>4</th>\n",
       "      <td>male</td>\n",
       "      <td>politician</td>\n",
       "      <td>Shia Islam</td>\n",
       "      <td>Pakistan</td>\n",
       "      <td>English</td>\n",
       "    </tr>\n",
       "  </tbody>\n",
       "</table>\n",
       "</div>"
      ],
      "text/plain": [
       "  gender_Label   job_Label   religion_Label country_Label language_Label\n",
       "0         male     student  Catholic Church   Switzerland         French\n",
       "1         male      lawyer            Islam      Pakistan        English\n",
       "2         male      lawyer       Shia Islam      Pakistan        English\n",
       "3         male  politician            Islam      Pakistan        English\n",
       "4         male  politician       Shia Islam      Pakistan        English"
      ]
     },
     "execution_count": 6,
     "metadata": {},
     "output_type": "execute_result"
    }
   ],
   "source": [
    "data_raw = data.drop('person', axis=1)\n",
    "features_raw = data_raw.drop('death_Label', axis=1)\n",
    "label_raw = data['death_Label']\n",
    "features_raw.head()"
   ]
  },
  {
   "cell_type": "markdown",
   "metadata": {},
   "source": [
    "### Data exploration\n",
    "Here I set up some tables to view the frequency of the label for manner of death."
   ]
  },
  {
   "cell_type": "code",
   "execution_count": 258,
   "metadata": {
    "collapsed": false
   },
   "outputs": [
    {
     "data": {
      "text/plain": [
       "natural causes                             4353\n",
       "homicide                                    657\n",
       "suicide                                     251\n",
       "accident                                    219\n",
       "capital punishment                          190\n",
       "attack                                       70\n",
       "unnatural death                              56\n",
       "heart failure                                42\n",
       "falling                                      32\n",
       "myocardial infarction                        24\n",
       "cardiac arrest                               24\n",
       "plague                                       21\n",
       "cerebral hemorrhage                          19\n",
       "illness                                      15\n",
       "Islamism                                     12\n",
       "Pancreatic cancer                             9\n",
       "Cerebral hypoxia                              9\n",
       "traffic accident                              7\n",
       "carbon monoxide poisoning                     7\n",
       "duel                                          7\n",
       "raid                                          6\n",
       "assassination                                 6\n",
       "Atentado                                      6\n",
       "tuberculosis                                  6\n",
       "t454473416                                    6\n",
       "ballistic trauma                              5\n",
       "prostate cancer                               5\n",
       "killed in action                              4\n",
       "car bomb                                      4\n",
       "Q28860788                                     4\n",
       "dysentery                                     3\n",
       "stomach cancer                                3\n",
       "aviation accident or incident                 2\n",
       "lung cancer                                   2\n",
       "European wars of religion                     2\n",
       "euthanasia                                    2\n",
       "Q9072523                                      2\n",
       "execution by shooting                         2\n",
       "Q10264768                                     2\n",
       "disease                                       2\n",
       "French Revolution                             2\n",
       "brain tumor                                   1\n",
       "Whitechapel murders                           1\n",
       "Atlantic Southeast Airlines Flight 2311       1\n",
       "pneumonia                                     1\n",
       "battle                                        1\n",
       "Name: death_Label, dtype: int64"
      ]
     },
     "execution_count": 258,
     "metadata": {},
     "output_type": "execute_result"
    }
   ],
   "source": [
    "label_raw.value_counts()"
   ]
  },
  {
   "cell_type": "markdown",
   "metadata": {},
   "source": [
    "### Visualization of distribution for manner of death"
   ]
  },
  {
   "cell_type": "code",
   "execution_count": 8,
   "metadata": {
    "collapsed": false
   },
   "outputs": [],
   "source": [
    "religion = data_raw['religion_Label']\n",
    "sex = data_raw['gender_Label']\n",
    "my_tab = pd.crosstab(label_raw, columns='Count')"
   ]
  },
  {
   "cell_type": "code",
   "execution_count": 9,
   "metadata": {
    "collapsed": false
   },
   "outputs": [
    {
     "name": "stdout",
     "output_type": "stream",
     "text": [
      "col_0                                    Count\n",
      "death_Label                                   \n",
      "Atentado                                     6\n",
      "Atlantic Southeast Airlines Flight 2311      1\n",
      "Cerebral hypoxia                             9\n",
      "European wars of religion                    2\n",
      "French Revolution                            2\n",
      "Islamism                                    12\n",
      "Pancreatic cancer                            9\n",
      "Q10264768                                    2\n",
      "Q28860788                                    4\n",
      "Q9072523                                     2\n",
      "Whitechapel murders                          1\n",
      "accident                                   219\n",
      "assassination                                6\n",
      "attack                                      70\n",
      "aviation accident or incident                2\n",
      "ballistic trauma                             5\n",
      "battle                                       1\n",
      "brain tumor                                  1\n",
      "capital punishment                         190\n",
      "car bomb                                     4\n",
      "carbon monoxide poisoning                    7\n",
      "cardiac arrest                              24\n",
      "cerebral hemorrhage                         19\n",
      "disease                                      2\n",
      "duel                                         7\n",
      "dysentery                                    3\n",
      "euthanasia                                   2\n",
      "execution by shooting                        2\n",
      "falling                                     32\n",
      "heart failure                               42\n",
      "homicide                                   657\n",
      "illness                                     15\n",
      "killed in action                             4\n",
      "lung cancer                                  2\n",
      "myocardial infarction                       24\n",
      "natural causes                            4353\n",
      "plague                                      21\n",
      "pneumonia                                    1\n",
      "prostate cancer                              5\n",
      "raid                                         6\n",
      "stomach cancer                               3\n",
      "suicide                                    251\n",
      "t454473416                                   6\n",
      "traffic accident                             7\n",
      "tuberculosis                                 6\n",
      "unnatural death                             56\n"
     ]
    },
    {
     "data": {
      "text/plain": [
       "<matplotlib.axes._subplots.AxesSubplot at 0x11582ead0>"
      ]
     },
     "execution_count": 9,
     "metadata": {},
     "output_type": "execute_result"
    },
    {
     "data": {
      "image/png": "[encoded data removed]",
      "text/plain": [
       "<matplotlib.figure.Figure at 0x115aab3d0>"
      ]
     },
     "metadata": {},
     "output_type": "display_data"
    }
   ],
   "source": [
    "print my_tab\n",
    "my_tab.plot.bar()"
   ]
  },
  {
   "cell_type": "code",
   "execution_count": 10,
   "metadata": {
    "collapsed": false
   },
   "outputs": [
    {
     "data": {
      "text/plain": [
       "death_Label                              gender_Label\n",
       "Atentado                                 male               6\n",
       "Atlantic Southeast Airlines Flight 2311  male               1\n",
       "Cerebral hypoxia                         female             9\n",
       "European wars of religion                male               2\n",
       "French Revolution                        male               2\n",
       "Islamism                                 male              12\n",
       "Pancreatic cancer                        male               9\n",
       "Q10264768                                male               2\n",
       "Q28860788                                female             4\n",
       "Q9072523                                 male               2\n",
       "Whitechapel murders                      female             1\n",
       "accident                                 female            37\n",
       "                                         male             182\n",
       "assassination                            male               6\n",
       "attack                                   male              70\n",
       "aviation accident or incident            male               2\n",
       "ballistic trauma                         male               5\n",
       "battle                                   male               1\n",
       "brain tumor                              male               1\n",
       "capital punishment                       female            13\n",
       "                                         male             177\n",
       "car bomb                                 male               4\n",
       "carbon monoxide poisoning                female             7\n",
       "cardiac arrest                           male              24\n",
       "cerebral hemorrhage                      male              19\n",
       "disease                                  male               2\n",
       "duel                                     male               7\n",
       "dysentery                                male               3\n",
       "euthanasia                               male               2\n",
       "execution by shooting                    male               2\n",
       "falling                                  male              32\n",
       "heart failure                            male              42\n",
       "homicide                                 female            24\n",
       "                                         male             633\n",
       "illness                                  male              15\n",
       "killed in action                         male               4\n",
       "lung cancer                              male               2\n",
       "myocardial infarction                    male              24\n",
       "natural causes                           female           703\n",
       "                                         male            3650\n",
       "plague                                   female            21\n",
       "pneumonia                                male               1\n",
       "prostate cancer                          male               5\n",
       "raid                                     male               6\n",
       "stomach cancer                           male               3\n",
       "suicide                                  female            36\n",
       "                                         male             215\n",
       "t454473416                               male               6\n",
       "traffic accident                         male               7\n",
       "tuberculosis                             male               6\n",
       "unnatural death                          male              56\n",
       "dtype: int64"
      ]
     },
     "execution_count": 10,
     "metadata": {},
     "output_type": "execute_result"
    }
   ],
   "source": [
    "grouped = data_raw.groupby(['death_Label', 'gender_Label'])\n",
    "grouped = grouped.size()\n",
    "grouped"
   ]
  },
  {
   "cell_type": "code",
   "execution_count": 11,
   "metadata": {
    "collapsed": false
   },
   "outputs": [],
   "source": [
    "table = pd.crosstab(index=data_raw['death_Label'], columns=data_raw['gender_Label'])"
   ]
  },
  {
   "cell_type": "code",
   "execution_count": 12,
   "metadata": {
    "collapsed": false
   },
   "outputs": [
    {
     "name": "stdout",
     "output_type": "stream",
     "text": [
      "<class 'pandas.core.frame.DataFrame'> <class 'pandas.core.series.Series'>\n"
     ]
    }
   ],
   "source": [
    "print type(table), type(grouped)"
   ]
  },
  {
   "cell_type": "code",
   "execution_count": 13,
   "metadata": {
    "collapsed": false
   },
   "outputs": [
    {
     "data": {
      "text/plain": [
       "<matplotlib.axes._subplots.AxesSubplot at 0x115a90e90>"
      ]
     },
     "execution_count": 13,
     "metadata": {},
     "output_type": "execute_result"
    },
    {
     "data": {
      "image/png": "[encoded data removed]",
      "text/plain": [
       "<matplotlib.figure.Figure at 0x115c8a710>"
      ]
     },
     "metadata": {},
     "output_type": "display_data"
    }
   ],
   "source": [
    "table.plot(kind='bar', stacked=True)"
   ]
  },
  {
   "cell_type": "markdown",
   "metadata": {},
   "source": [
    "### Naive Predictor: make a guess about the most probable manner of death\n",
    "Here I guessed that natural cause is the most probable manner of death and I wanted to see how accurate my guess is. I used one-hot-encoding to quantify categorical labels and features."
   ]
  },
  {
   "cell_type": "code",
   "execution_count": 15,
   "metadata": {
    "collapsed": false
   },
   "outputs": [],
   "source": [
    "features = pd.get_dummies(features_raw, columns=['gender_Label','country_Label','language_Label', 'job_Label', 'religion_Label'])\n",
    "label = pd.get_dummies(label_raw)\n",
    "natural_causes = label['natural causes']"
   ]
  },
  {
   "cell_type": "code",
   "execution_count": 18,
   "metadata": {
    "collapsed": false
   },
   "outputs": [
    {
     "name": "stdout",
     "output_type": "stream",
     "text": [
      "The size of encoded labels is 46\n",
      "The size of encoded features is 800\n"
     ]
    }
   ],
   "source": [
    "print \"The size of encoded labels is {}\\nThe size of encoded features is {}\".format(label.shape[1], features.shape[1])"
   ]
  },
  {
   "cell_type": "code",
   "execution_count": 19,
   "metadata": {
    "collapsed": false
   },
   "outputs": [
    {
     "name": "stdout",
     "output_type": "stream",
     "text": [
      "Training set has 4884 samples.\n",
      "Testing set has 1221 samples.\n"
     ]
    }
   ],
   "source": [
    "X_train, X_test, y_train, y_test = train_test_split(features, label, test_size=.2, random_state=5)\n",
    "print 'Training set has {} samples.\\nTesting set has {} samples.'.format((X_train.shape[0]), X_test.shape[0])"
   ]
  },
  {
   "cell_type": "code",
   "execution_count": 26,
   "metadata": {
    "collapsed": false
   },
   "outputs": [],
   "source": [
    "y_pred_naive = []\n",
    "for i in range(len(data)):\n",
    "    y_pred_naive.append(1)"
   ]
  },
  {
   "cell_type": "code",
   "execution_count": 27,
   "metadata": {
    "collapsed": false
   },
   "outputs": [
    {
     "name": "stdout",
     "output_type": "stream",
     "text": [
      "The accuracy of naive predictor is 0.713022113022\n",
      "The fbeta_score of naive predictor is 0.756438327599\n"
     ]
    }
   ],
   "source": [
    "from sklearn.metrics import accuracy_score, fbeta_score\n",
    "print \"The accuracy of naive predictor is {}\".format(accuracy_score(natural_causes, y_pred_naive))\n",
    "print \"The fbeta_score of naive predictor is {}\".format(fbeta_score(natural_causes, y_pred_naive, beta=0.5))"
   ]
  },
  {
   "cell_type": "markdown",
   "metadata": {},
   "source": [
    "### Initial Model Evaluation\n",
    "\n",
    "DecisionTreeClassifier\n",
    "\n",
    "GaussianNB\n",
    "\n",
    "SVC\n",
    "\n",
    "RandomForestClassifier\n",
    "\n",
    "AdaBoostClassifier\n",
    "\n",
    "KNeighoborsClassifier"
   ]
  },
  {
   "cell_type": "code",
   "execution_count": 32,
   "metadata": {
    "collapsed": false
   },
   "outputs": [
    {
     "name": "stdout",
     "output_type": "stream",
     "text": [
      "The accuracy for Decision Tree is 0.760032760033.\n",
      "The fbeta_score for Decision Tree is 0.7895184618.\n"
     ]
    }
   ],
   "source": [
    "from sklearn.tree import DecisionTreeClassifier\n",
    "tree = DecisionTreeClassifier(random_state=5)\n",
    "tree.fit(X_train, y_train)\n",
    "y_pred_tree = tree.predict(X_test)\n",
    "print 'The accuracy for Decision Tree is {}.\\nThe fbeta_score for Decision Tree is {}.'.format(accuracy_score(y_test, y_pred_tree),fbeta_score(y_test, y_pred_tree, beta=0.5, average='micro'))"
   ]
  },
  {
   "cell_type": "code",
   "execution_count": 35,
   "metadata": {
    "collapsed": false
   },
   "outputs": [
    {
     "name": "stdout",
     "output_type": "stream",
     "text": [
      "The accuracy for Naive Bayes is 0.356265356265.\n",
      "The fbeta_score for Naive Bayes is 0.303330896941.\n"
     ]
    }
   ],
   "source": [
    "from sklearn.naive_bayes import GaussianNB\n",
    "from sklearn.multiclass import OneVsRestClassifier\n",
    "y_pred_NB = OneVsRestClassifier(GaussianNB()).fit(X_train, y_train).predict(X_test)\n",
    "print 'The accuracy for Naive Bayes is {}.\\nThe fbeta_score for Naive Bayes is {}.'.format(accuracy_score(y_test, y_pred_NB),fbeta_score(y_test, y_pred_NB, beta=0.5, average='micro'))"
   ]
  },
  {
   "cell_type": "code",
   "execution_count": 36,
   "metadata": {
    "collapsed": false
   },
   "outputs": [
    {
     "name": "stdout",
     "output_type": "stream",
     "text": [
      "The accuracy for SVC is 0.755118755119.\n",
      "The fbeta_score for SVC is 0.812445980985.\n"
     ]
    }
   ],
   "source": [
    "from sklearn.svm import SVC\n",
    "y_pred_svm = OneVsRestClassifier(SVC(kernel='linear', random_state=5)).fit(X_train, y_train).predict(X_test)\n",
    "print 'The accuracy for SVC is {}.\\nThe fbeta_score for SVC is {}.'.format(accuracy_score(y_test, y_pred_svm),fbeta_score(y_test, y_pred_svm, beta=0.5, average='micro'))"
   ]
  },
  {
   "cell_type": "code",
   "execution_count": 37,
   "metadata": {
    "collapsed": false
   },
   "outputs": [
    {
     "name": "stdout",
     "output_type": "stream",
     "text": [
      "The accuracy for Random Forest is 0.760851760852.\n",
      "The fbeta_score for Random Forest is 0.808529155788.\n"
     ]
    }
   ],
   "source": [
    "from sklearn.ensemble import RandomForestClassifier\n",
    "random = RandomForestClassifier(random_state=5)\n",
    "random.fit(X_train, y_train)\n",
    "y_pred_random = random.predict(X_test)\n",
    "print 'The accuracy for Random Forest is {}.\\nThe fbeta_score for Random Forest is {}.'.format(accuracy_score(y_test, y_pred_random),fbeta_score(y_test, y_pred_random, beta=0.5, average='micro'))"
   ]
  },
  {
   "cell_type": "code",
   "execution_count": 38,
   "metadata": {
    "collapsed": false
   },
   "outputs": [
    {
     "name": "stdout",
     "output_type": "stream",
     "text": [
      "The accuracy for AdaBoost is 0.687960687961.\n",
      "The fbeta_score for AdaBoost is 0.76143407606.\n"
     ]
    }
   ],
   "source": [
    "from sklearn.ensemble import AdaBoostClassifier\n",
    "y_pred_boost = OneVsRestClassifier(AdaBoostClassifier(random_state=5)).fit(X_train, y_train).predict(X_test)\n",
    "print 'The accuracy for AdaBoost is {}.\\nThe fbeta_score for AdaBoost is {}.'.format(accuracy_score(y_test, y_pred_boost),fbeta_score(y_test, y_pred_boost, beta=0.5, average='micro'))"
   ]
  },
  {
   "cell_type": "code",
   "execution_count": 39,
   "metadata": {
    "collapsed": false
   },
   "outputs": [
    {
     "name": "stdout",
     "output_type": "stream",
     "text": [
      "The accuracy for KNN is 0.771498771499.\n",
      "The fbeta_score for KNN is 0.816432657306.\n"
     ]
    }
   ],
   "source": [
    "from sklearn.neighbors import KNeighborsClassifier\n",
    "knn = KNeighborsClassifier()\n",
    "knn.fit(X_train, y_train)\n",
    "y_pred_knn = knn.predict(X_test)\n",
    "print 'The accuracy for KNN is {}.\\nThe fbeta_score for KNN is {}.'.format(accuracy_score(y_test, y_pred_knn),fbeta_score(y_test, y_pred_knn, beta=0.5, average='micro'))"
   ]
  },
  {
   "cell_type": "markdown",
   "metadata": {},
   "source": [
    "### Model Optimization: KNN\n",
    "Here in model optimization, I choose three model that performs well in the initial evaluation:\n",
    "\n",
    "KNN\n",
    "\n",
    "DecisionTreeClassifier\n",
    "\n",
    "RandomForestClassifier\n"
   ]
  },
  {
   "cell_type": "code",
   "execution_count": 41,
   "metadata": {
    "collapsed": false
   },
   "outputs": [
    {
     "name": "stdout",
     "output_type": "stream",
     "text": [
      "The traning time is: 831.492352009\n"
     ]
    }
   ],
   "source": [
    "from sklearn.grid_search import GridSearchCV\n",
    "from sklearn.metrics import make_scorer\n",
    "from time import time\n",
    "n_neighbors = range(1,30)\n",
    "param = dict(n_neighbors=n_neighbors)\n",
    "knn_opt = KNeighborsClassifier()\n",
    "grid = GridSearchCV(knn_opt, param, scoring='accuracy', cv=10)\n",
    "t0 = time()\n",
    "grid.fit(X_train, y_train)\n",
    "t1 = time()\n",
    "print \"The traning time is: {}\".format(t1-t0)"
   ]
  },
  {
   "cell_type": "code",
   "execution_count": 53,
   "metadata": {
    "collapsed": false
   },
   "outputs": [
    {
     "name": "stdout",
     "output_type": "stream",
     "text": [
      "The best optimized KNN is: \n",
      "\n",
      "KNeighborsClassifier(algorithm='auto', leaf_size=30, metric='minkowski',\n",
      "           metric_params=None, n_jobs=1, n_neighbors=5, p=2,\n",
      "           weights='uniform')\n",
      "\n",
      "The best accuracy score is 0.767608517609\n"
     ]
    }
   ],
   "source": [
    "best_clf = grid.best_estimator_\n",
    "results = grid.grid_scores_\n",
    "print \"The best optimized KNN is: \\n\\n{}\".format(best_clf)\n",
    "print \"\\nThe best accuracy score is {}\".format(grid.best_score_)"
   ]
  },
  {
   "cell_type": "code",
   "execution_count": 54,
   "metadata": {
    "collapsed": false
   },
   "outputs": [],
   "source": [
    "grid_mean_scores = []\n",
    "for i in results:\n",
    "    grid_mean_scores.append(i.mean_validation_score)"
   ]
  },
  {
   "cell_type": "code",
   "execution_count": 55,
   "metadata": {
    "collapsed": false
   },
   "outputs": [
    {
     "data": {
      "text/plain": [
       "<matplotlib.text.Text at 0x116607d90>"
      ]
     },
     "execution_count": 55,
     "metadata": {},
     "output_type": "execute_result"
    },
    {
     "data": {
      "image/png": "[encoded data removed]",
      "text/plain": [
       "<matplotlib.figure.Figure at 0x115af9d10>"
      ]
     },
     "metadata": {},
     "output_type": "display_data"
    }
   ],
   "source": [
    "import matplotlib.pyplot as plt\n",
    "plt.title('KNN Optimization')\n",
    "plt.plot(n_neighbors, grid_mean_scores)\n",
    "plt.xlabel('n_neighbors')\n",
    "plt.ylabel('Accuracy')"
   ]
  },
  {
   "cell_type": "code",
   "execution_count": 57,
   "metadata": {
    "collapsed": false
   },
   "outputs": [
    {
     "name": "stdout",
     "output_type": "stream",
     "text": [
      "The accuracy for optimized KNN is 0.771498771499.\n",
      "The fbeta_score for optimized KNN is 0.816432657306.\n"
     ]
    }
   ],
   "source": [
    "y_pred_knn_opt = best_clf.predict(X_test)\n",
    "print 'The accuracy for optimized KNN is {}.\\nThe fbeta_score for optimized KNN is {}.'.format(accuracy_score(y_test, y_pred_knn_opt),fbeta_score(y_test, y_pred_knn_opt, beta=0.5, average='micro'))"
   ]
  },
  {
   "cell_type": "markdown",
   "metadata": {},
   "source": [
    "### Model Optimizaiton : Decision Tree"
   ]
  },
  {
   "cell_type": "code",
   "execution_count": 85,
   "metadata": {
    "collapsed": false
   },
   "outputs": [
    {
     "name": "stdout",
     "output_type": "stream",
     "text": [
      "The traning time is: 680.294773102\n"
     ]
    }
   ],
   "source": [
    "max_depth = range(1,20)\n",
    "min_samples_split = range(2,20)\n",
    "param = dict(max_depth=max_depth, min_samples_split=min_samples_split)\n",
    "# scorer = make_scorer(fbeta_score, beta=0.5, average='micro')\n",
    "tree_opt = DecisionTreeClassifier(random_state=5)\n",
    "grid = GridSearchCV(tree_opt, param, scoring='accuracy', cv=10)\n",
    "t0 = time()\n",
    "grid.fit(X_train, y_train)\n",
    "t1 = time()\n",
    "print \"The traning time is: {}\".format(t1-t0)"
   ]
  },
  {
   "cell_type": "code",
   "execution_count": 86,
   "metadata": {
    "collapsed": false
   },
   "outputs": [
    {
     "name": "stdout",
     "output_type": "stream",
     "text": [
      "The best optimized Decision Tree is: \n",
      "\n",
      "DecisionTreeClassifier(class_weight=None, criterion='gini', max_depth=17,\n",
      "            max_features=None, max_leaf_nodes=None, min_samples_leaf=1,\n",
      "            min_samples_split=2, min_weight_fraction_leaf=0.0,\n",
      "            presort=False, random_state=5, splitter='best')\n",
      "\n",
      "The best accuracy score is: 0.758804258804\n"
     ]
    }
   ],
   "source": [
    "best_clf = grid.best_estimator_\n",
    "results = grid.grid_scores_\n",
    "print \"The best optimized Decision Tree is: \\n\\n{}\".format(best_clf)\n",
    "print \"\\nThe best accuracy score is: {}\".format(grid.best_score_)"
   ]
  },
  {
   "cell_type": "code",
   "execution_count": 87,
   "metadata": {
    "collapsed": false
   },
   "outputs": [],
   "source": [
    "grid_mean_scores = []\n",
    "for i in results:\n",
    "    grid_mean_scores.append(i.mean_validation_score)"
   ]
  },
  {
   "cell_type": "code",
   "execution_count": 88,
   "metadata": {
    "collapsed": false
   },
   "outputs": [],
   "source": [
    "count = 1\n",
    "list_1 = []\n",
    "list_2 = []\n",
    "for i in grid_mean_scores:\n",
    "    list_1.append(i)\n",
    "    count += 1\n",
    "#     print count\n",
    "    if count == 19:\n",
    "        list_2.append(np.mean(list_1))\n",
    "        list_1 = []\n",
    "        count = 1"
   ]
  },
  {
   "cell_type": "code",
   "execution_count": 89,
   "metadata": {
    "collapsed": false,
    "scrolled": true
   },
   "outputs": [
    {
     "data": {
      "text/plain": [
       "<matplotlib.text.Text at 0x1193ccb90>"
      ]
     },
     "execution_count": 89,
     "metadata": {},
     "output_type": "execute_result"
    },
    {
     "data": {
      "image/png": "[encoded data removed]",
      "text/plain": [
       "<matplotlib.figure.Figure at 0x11616c6d0>"
      ]
     },
     "metadata": {},
     "output_type": "display_data"
    }
   ],
   "source": [
    "import matplotlib.pyplot as plt\n",
    "plt.title('Decision Tree Optimization')\n",
    "plt.plot(max_depth, list_2)\n",
    "plt.xlabel('max_depth')\n",
    "plt.ylabel('Accuracy')"
   ]
  },
  {
   "cell_type": "code",
   "execution_count": 90,
   "metadata": {
    "collapsed": false
   },
   "outputs": [
    {
     "name": "stdout",
     "output_type": "stream",
     "text": [
      "The accuracy for optimized Decision Tree is: 0.764127764128.\n",
      "The fbeta_score for optimized Decision Tree is: 0.775303307296.\n"
     ]
    }
   ],
   "source": [
    "y_pred_tree_opt = best_clf.predict(X_test)\n",
    "print 'The accuracy for optimized Decision Tree is: {}.\\nThe fbeta_score for optimized Decision Tree is: {}.'.format(accuracy_score(y_test, y_pred_tree_opt),fbeta_score(y_test, y_pred_tree_opt, beta=0.5, average='micro'))"
   ]
  },
  {
   "cell_type": "markdown",
   "metadata": {},
   "source": [
    "### Model Optimization: RandomForest"
   ]
  },
  {
   "cell_type": "code",
   "execution_count": 72,
   "metadata": {
    "collapsed": false
   },
   "outputs": [
    {
     "name": "stdout",
     "output_type": "stream",
     "text": [
      "The traning time is: 1041.14225817\n"
     ]
    }
   ],
   "source": [
    "max_depth = range(1,20)\n",
    "min_samples_split = range(2,20)\n",
    "param = dict(max_depth=max_depth, min_samples_split=min_samples_split)\n",
    "random_opt = RandomForestClassifier(random_state=5)\n",
    "grid = GridSearchCV(random_opt, param, scoring='accuracy', cv=10)\n",
    "t0 = time()\n",
    "grid.fit(X_train, y_train)\n",
    "t1 = time()\n",
    "print \"The traning time is: {}\".format(t1-t0)"
   ]
  },
  {
   "cell_type": "code",
   "execution_count": 73,
   "metadata": {
    "collapsed": false
   },
   "outputs": [
    {
     "name": "stdout",
     "output_type": "stream",
     "text": [
      "The best optimized Random Forest is: \n",
      "\n",
      "RandomForestClassifier(bootstrap=True, class_weight=None, criterion='gini',\n",
      "            max_depth=19, max_features='auto', max_leaf_nodes=None,\n",
      "            min_samples_leaf=1, min_samples_split=5,\n",
      "            min_weight_fraction_leaf=0.0, n_estimators=10, n_jobs=1,\n",
      "            oob_score=False, random_state=5, verbose=0, warm_start=False)\n",
      "\n",
      "The best accuracy score is: 0.728910728911\n"
     ]
    }
   ],
   "source": [
    "best_clf = grid.best_estimator_\n",
    "results = grid.grid_scores_\n",
    "print \"The best optimized Random Forest is: \\n\\n{}\".format(best_clf)\n",
    "print \"\\nThe best accuracy score is: {}\".format(grid.best_score_)"
   ]
  },
  {
   "cell_type": "code",
   "execution_count": 74,
   "metadata": {
    "collapsed": false
   },
   "outputs": [],
   "source": [
    "list_1 = []\n",
    "list_2 = []\n",
    "count = 1\n",
    "for i in results:\n",
    "    list_1.append(i[1])\n",
    "    count += 1\n",
    "#     print count\n",
    "    if count == 19:\n",
    "        list_2.append(np.mean(list_1))\n",
    "        list_1 = []\n",
    "        count = 1"
   ]
  },
  {
   "cell_type": "code",
   "execution_count": 75,
   "metadata": {
    "collapsed": false
   },
   "outputs": [
    {
     "data": {
      "text/plain": [
       "[<matplotlib.lines.Line2D at 0x118809990>]"
      ]
     },
     "execution_count": 75,
     "metadata": {},
     "output_type": "execute_result"
    },
    {
     "data": {
      "image/png": "[encoded data removed]",
      "text/plain": [
       "<matplotlib.figure.Figure at 0x11608dd50>"
      ]
     },
     "metadata": {},
     "output_type": "display_data"
    }
   ],
   "source": [
    "plt.plot(max_depth, list_2)"
   ]
  },
  {
   "cell_type": "code",
   "execution_count": 77,
   "metadata": {
    "collapsed": false
   },
   "outputs": [
    {
     "name": "stdout",
     "output_type": "stream",
     "text": [
      "The accuracy for optimized Random Forest is: 0.740376740377.\n",
      "The fbeta_score for optimized Random Forest is: 0.765453005927.\n"
     ]
    }
   ],
   "source": [
    "y_pred_random_opt = best_clf.predict(X_test)\n",
    "print 'The accuracy for optimized Random Forest is: {}.\\nThe fbeta_score for optimized Random Forest is: {}.'.format(accuracy_score(y_test, y_pred_random_opt),fbeta_score(y_test, y_pred_random_opt, beta=0.5, average='micro'))"
   ]
  },
  {
   "cell_type": "markdown",
   "metadata": {},
   "source": [
    "### Feature Selection\n",
    "Based on the optimized model, I choose Decision Tree because it has higher accuracy score (76%) than Random Forest's (74%). Also the Decision Tree has feature_importances_ attribute that KNN does not have, allowing me to reduce features.\n",
    "\n",
    "The following is what I did to find 5 most important features that Decison Tree thinks is taking large part in the learning patterns."
   ]
  },
  {
   "cell_type": "code",
   "execution_count": 101,
   "metadata": {
    "collapsed": false
   },
   "outputs": [
    {
     "data": {
      "image/png": "[encoded data removed]",
      "text/plain": [
       "<matplotlib.figure.Figure at 0x1164b4c10>"
      ]
     },
     "metadata": {},
     "output_type": "display_data"
    }
   ],
   "source": [
    "importances = best_clf.feature_importances_\n",
    "vs.feature_plot(importances, X_train, y_train)"
   ]
  },
  {
   "cell_type": "code",
   "execution_count": 102,
   "metadata": {
    "collapsed": false
   },
   "outputs": [],
   "source": [
    "X_train_reduced = X_train[X_train.columns.values[np.argsort(importances)][::-1][:5]]\n",
    "X_test_reduced = X_test[X_test.columns.values[np.argsort(importances)][::-1][:5]]"
   ]
  },
  {
   "cell_type": "code",
   "execution_count": 103,
   "metadata": {
    "collapsed": false
   },
   "outputs": [
    {
     "data": {
      "text/plain": [
       "DecisionTreeClassifier(class_weight=None, criterion='gini', max_depth=17,\n",
       "            max_features=None, max_leaf_nodes=None, min_samples_leaf=1,\n",
       "            min_samples_split=2, min_weight_fraction_leaf=0.0,\n",
       "            presort=False, random_state=5, splitter='best')"
      ]
     },
     "execution_count": 103,
     "metadata": {},
     "output_type": "execute_result"
    }
   ],
   "source": [
    "best_clf"
   ]
  },
  {
   "cell_type": "code",
   "execution_count": 138,
   "metadata": {
    "collapsed": false
   },
   "outputs": [
    {
     "name": "stdout",
     "output_type": "stream",
     "text": [
      "Time to train reduced sets is: 0.0150759220123\n",
      "The accuracy for optimized Random Forest on reduced features is: 0.728910728911.\n",
      "The fbeta_score for optimized Random Forest on reduced features is: 0.729388624816.\n"
     ]
    }
   ],
   "source": [
    "t0=time()\n",
    "y_pred_reduced_tree = best_clf.fit(X_train_reduced, y_train).predict(X_test_reduced)\n",
    "\n",
    "print \"Time to train reduced sets is: {}\".format(time()-t0)\n",
    "print 'The accuracy for optimized Random Forest on reduced features is: {}.\\nThe fbeta_score for optimized Random Forest on reduced features is: {}.'.format(accuracy_score(y_test, y_pred_reduced_tree),fbeta_score(y_test, y_pred_reduced_tree, beta=0.5, average='micro'))"
   ]
  },
  {
   "cell_type": "markdown",
   "metadata": {
    "collapsed": true
   },
   "source": [
    "### Conclusion: \n",
    "The optimized Decison Tree has,on reduced training set, an accuracy of 73% predicting manner of death which is a bit lower than that on full training set, but it has a much faster performance (it takes only 15m seconds versus 680 seconds).\n",
    "\n",
    "As you can see, the most probable manner of death is natural cause, which says my guess (Naive Predictor) is correct."
   ]
  },
  {
   "cell_type": "code",
   "execution_count": 143,
   "metadata": {
    "collapsed": false
   },
   "outputs": [
    {
     "data": {
      "text/plain": [
       "0        0.0\n",
       "1        0.0\n",
       "2        0.0\n",
       "3        0.0\n",
       "4        0.0\n",
       "5        0.0\n",
       "6        0.0\n",
       "7        0.0\n",
       "8        0.0\n",
       "9        0.0\n",
       "10       0.0\n",
       "11       0.0\n",
       "12       0.0\n",
       "13       0.0\n",
       "14       0.0\n",
       "15       0.0\n",
       "16       0.0\n",
       "17       0.0\n",
       "18       5.0\n",
       "19       0.0\n",
       "20       0.0\n",
       "21       0.0\n",
       "22       0.0\n",
       "23       0.0\n",
       "24       0.0\n",
       "25       0.0\n",
       "26       0.0\n",
       "27       0.0\n",
       "28       0.0\n",
       "29       0.0\n",
       "30       0.0\n",
       "31       0.0\n",
       "32       0.0\n",
       "33       0.0\n",
       "34       0.0\n",
       "35    1215.0\n",
       "36       0.0\n",
       "37       0.0\n",
       "38       0.0\n",
       "39       0.0\n",
       "40       0.0\n",
       "41       0.0\n",
       "42       0.0\n",
       "43       0.0\n",
       "44       0.0\n",
       "45       0.0\n",
       "dtype: float64"
      ]
     },
     "execution_count": 143,
     "metadata": {},
     "output_type": "execute_result"
    }
   ],
   "source": [
    "y_pred_reduced_tree = pd.DataFrame(y_pred_reduced_tree)\n",
    "y_pred_reduced_tree.sum()"
   ]
  },
  {
   "cell_type": "code",
   "execution_count": 150,
   "metadata": {
    "collapsed": false
   },
   "outputs": [
    {
     "data": {
      "text/plain": [
       "'natural causes'"
      ]
     },
     "execution_count": 150,
     "metadata": {},
     "output_type": "execute_result"
    }
   ],
   "source": [
    "y_test.columns.values[35]"
   ]
  }
 ],
 "metadata": {
  "kernelspec": {
   "display_name": "Python 2",
   "language": "python",
   "name": "python2"
  },
  "language_info": {
   "codemirror_mode": {
    "name": "ipython",
    "version": 2
   },
   "file_extension": ".py",
   "mimetype": "text/x-python",
   "name": "python",
   "nbconvert_exporter": "python",
   "pygments_lexer": "ipython2",
   "version": "2.7.13"
  }
 },
 "nbformat": 4,
 "nbformat_minor": 2
}
